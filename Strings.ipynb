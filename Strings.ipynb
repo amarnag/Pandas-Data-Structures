{
 "cells": [
  {
   "cell_type": "code",
   "execution_count": 22,
   "id": "2a3a872c",
   "metadata": {},
   "outputs": [
    {
     "name": "stdout",
     "output_type": "stream",
     "text": [
      "Capital of India is New Delhi\n"
     ]
    }
   ],
   "source": [
    "a = \"Capital of India is New Delhi\"\n",
    "print(a)"
   ]
  },
  {
   "cell_type": "code",
   "execution_count": 20,
   "id": "ac79499a",
   "metadata": {},
   "outputs": [
    {
     "data": {
      "text/plain": [
       "29"
      ]
     },
     "execution_count": 20,
     "metadata": {},
     "output_type": "execute_result"
    }
   ],
   "source": [
    "len(a)"
   ]
  },
  {
   "cell_type": "code",
   "execution_count": 23,
   "id": "25f84dcf",
   "metadata": {},
   "outputs": [
    {
     "name": "stdout",
     "output_type": "stream",
     "text": [
      "The frequency of characters in the given string:{'C': 1, 'a': 3, 'p': 1, 'i': 4, 't': 1, 'l': 2, ' ': 5, 'o': 1, 'f': 1, 'I': 1, 'n': 1, 'd': 1, 's': 1, 'N': 1, 'e': 2, 'w': 1, 'D': 1, 'h': 1}\n"
     ]
    }
   ],
   "source": [
    "freq = {}\n",
    "for i in a:\n",
    "    if i in freq:\n",
    "        freq[i] += 1\n",
    "    else:\n",
    "        freq[i] = 1\n",
    "print(\"The frequency of characters in the given string:\" +str(freq))"
   ]
  },
  {
   "cell_type": "code",
   "execution_count": 24,
   "id": "6063c267",
   "metadata": {},
   "outputs": [
    {
     "name": "stdout",
     "output_type": "stream",
     "text": [
      "0,1,1,2,3,5,8,13,21,34,55,89,144,233,377,610,987,"
     ]
    }
   ],
   "source": [
    "a, b = 0, 1\n",
    "while a<1000:\n",
    "    print(a, end=',')\n",
    "    a,b = b, a+b\n",
    "    "
   ]
  },
  {
   "cell_type": "code",
   "execution_count": 2,
   "id": "ca384d9d",
   "metadata": {},
   "outputs": [
    {
     "name": "stdout",
     "output_type": "stream",
     "text": [
      "nothing special here\n"
     ]
    },
    {
     "data": {
      "text/plain": [
       "20"
      ]
     },
     "execution_count": 2,
     "metadata": {},
     "output_type": "execute_result"
    }
   ],
   "source": [
    "s = \"nothing special here\"\n",
    "print(s)\n",
    "len(s)"
   ]
  },
  {
   "cell_type": "code",
   "execution_count": 7,
   "id": "c2faf599",
   "metadata": {},
   "outputs": [
    {
     "name": "stdout",
     "output_type": "stream",
     "text": [
      "{'n': 2, 'o': 1, 't': 1, 'h': 2, 'i': 2, 'g': 1, ' ': 2, 's': 1, 'p': 1, 'e': 3, 'c': 1, 'a': 1, 'l': 1, 'r': 1}\n"
     ]
    }
   ],
   "source": [
    "freq = {}\n",
    "for i in s:\n",
    "    if i in freq:\n",
    "        freq[i] += 1\n",
    "    else:\n",
    "        freq[i] = 1\n",
    "print(str(freq))"
   ]
  },
  {
   "cell_type": "code",
   "execution_count": 9,
   "id": "f749f22c",
   "metadata": {},
   "outputs": [
    {
     "name": "stdout",
     "output_type": "stream",
     "text": [
      "0,1,1,2,3,5,8,13,21,34,55,89,144,233,377,610,987,"
     ]
    }
   ],
   "source": [
    "a, b = 0,1\n",
    "while a<1000:\n",
    "    print(a, end = ',')\n",
    "    a, b = b, a+b"
   ]
  },
  {
   "cell_type": "code",
   "execution_count": 10,
   "id": "46d6b2b9",
   "metadata": {},
   "outputs": [
    {
     "data": {
      "text/plain": [
       "89"
      ]
     },
     "execution_count": 10,
     "metadata": {},
     "output_type": "execute_result"
    }
   ],
   "source": [
    "def fibanacci(n):\n",
    "    a,b = 0, 1\n",
    "    for i in range(n):\n",
    "        c = a+b\n",
    "        a = b\n",
    "        b = c\n",
    "    return b\n",
    "fibanacci(10)"
   ]
  },
  {
   "cell_type": "code",
   "execution_count": 21,
   "id": "13c909e0",
   "metadata": {},
   "outputs": [
    {
     "name": "stdout",
     "output_type": "stream",
     "text": [
      "Enter a positive number:9\n",
      "1,1,2,3,5,8,13,21,34,"
     ]
    }
   ],
   "source": [
    "n = int(input(\"Enter a positive number:\"))\n",
    "a, b = 0, 1\n",
    "count = 0\n",
    "while count<n:\n",
    "    print(b, end = ',')\n",
    "    c = a+b\n",
    "    a = b\n",
    "    b = c\n",
    "    count +=1"
   ]
  },
  {
   "cell_type": "code",
   "execution_count": 28,
   "id": "548b7adb",
   "metadata": {},
   "outputs": [
    {
     "name": "stdout",
     "output_type": "stream",
     "text": [
      "Enter lower limit:10\n",
      "Enter upper limit16\n",
      "10 is not prime\n",
      "11 is prime\n",
      "12 is not prime\n",
      "13 is prime\n",
      "14 is not prime\n",
      "15 is not prime\n"
     ]
    }
   ],
   "source": [
    "lower = int(input(\"Enter lower limit:\"))\n",
    "upper = int(input(\"Enter upper limit\"))\n",
    "for num in range(lower, upper):\n",
    "    for i in range(2, int(num/2)+1):\n",
    "        if num%i == 0:\n",
    "            print(num, \"is not prime\")\n",
    "            break\n",
    "    else:\n",
    "        print(num, \"is prime\")"
   ]
  },
  {
   "cell_type": "code",
   "execution_count": null,
   "id": "929a9c81",
   "metadata": {},
   "outputs": [],
   "source": []
  }
 ],
 "metadata": {
  "kernelspec": {
   "display_name": "Python 3 (ipykernel)",
   "language": "python",
   "name": "python3"
  },
  "language_info": {
   "codemirror_mode": {
    "name": "ipython",
    "version": 3
   },
   "file_extension": ".py",
   "mimetype": "text/x-python",
   "name": "python",
   "nbconvert_exporter": "python",
   "pygments_lexer": "ipython3",
   "version": "3.9.7"
  }
 },
 "nbformat": 4,
 "nbformat_minor": 5
}
