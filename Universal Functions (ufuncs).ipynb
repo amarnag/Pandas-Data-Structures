{
 "cells": [
  {
   "cell_type": "code",
   "execution_count": 13,
   "id": "45dab56a",
   "metadata": {},
   "outputs": [
    {
     "name": "stdout",
     "output_type": "stream",
     "text": [
      "[6 1 4 4 8]\n"
     ]
    },
    {
     "data": {
      "text/plain": [
       "array([0.16666667, 1.        , 0.25      , 0.25      , 0.125     ])"
      ]
     },
     "execution_count": 13,
     "metadata": {},
     "output_type": "execute_result"
    }
   ],
   "source": [
    "import numpy as np\n",
    "np.random.seed(0)\n",
    "def reciprocal_values(values):\n",
    "    output = np.empty(len(values))\n",
    "    for i in range(len(values)):\n",
    "        \n",
    "        output[i] = 1.0/values[i]\n",
    "    return output\n",
    "values = np.random.randint(1,10, size = 5)\n",
    "print(values)\n",
    "reciprocal_values(values)"
   ]
  },
  {
   "cell_type": "code",
   "execution_count": 9,
   "id": "7ebd253f",
   "metadata": {},
   "outputs": [
    {
     "name": "stdout",
     "output_type": "stream",
     "text": [
      "2.83 s ± 236 ms per loop (mean ± std. dev. of 7 runs, 1 loop each)\n"
     ]
    }
   ],
   "source": [
    "values = np.random.randint(1,100, size = 1000000)\n",
    "%timeit reciprocal_values(values)"
   ]
  },
  {
   "cell_type": "code",
   "execution_count": 19,
   "id": "d333ac5f",
   "metadata": {},
   "outputs": [
    {
     "name": "stdout",
     "output_type": "stream",
     "text": [
      "[0.16666667 1.         0.25       0.25       0.125     ]\n",
      "[0.16666667 1.         0.25       0.25       0.125     ]\n"
     ]
    }
   ],
   "source": [
    "np.random.seed(0)\n",
    "values = np.random.randint(1,10, size =5)\n",
    "print(reciprocal_values(values))\n",
    "print(1.0/values)"
   ]
  },
  {
   "cell_type": "code",
   "execution_count": 21,
   "id": "91611b07",
   "metadata": {},
   "outputs": [
    {
     "name": "stdout",
     "output_type": "stream",
     "text": [
      "[0.01204819 0.03448276 0.01219512 ... 0.04       0.02272727 0.02777778]\n",
      "5.03 ms ± 648 µs per loop (mean ± std. dev. of 7 runs, 100 loops each)\n"
     ]
    }
   ],
   "source": [
    "values = np.random.randint(1,100,size = 1000000)\n",
    "print(1.0/values)\n",
    "%timeit 1.0/values"
   ]
  },
  {
   "cell_type": "code",
   "execution_count": 22,
   "id": "5be78423",
   "metadata": {},
   "outputs": [
    {
     "data": {
      "text/plain": [
       "array([1, 2, 3, 4, 5])"
      ]
     },
     "execution_count": 22,
     "metadata": {},
     "output_type": "execute_result"
    }
   ],
   "source": [
    "x = np.arange(1,6)\n",
    "x"
   ]
  },
  {
   "cell_type": "code",
   "execution_count": 23,
   "id": "b02b14ff",
   "metadata": {},
   "outputs": [
    {
     "data": {
      "text/plain": [
       "array([0, 1, 2, 3, 4])"
      ]
     },
     "execution_count": 23,
     "metadata": {},
     "output_type": "execute_result"
    }
   ],
   "source": [
    "y = np.arange(5)\n",
    "y"
   ]
  },
  {
   "cell_type": "code",
   "execution_count": 24,
   "id": "18f2405b",
   "metadata": {},
   "outputs": [
    {
     "name": "stdout",
     "output_type": "stream",
     "text": [
      "[0.         0.5        0.66666667 0.75       0.8       ]\n"
     ]
    }
   ],
   "source": [
    "print(y/x)"
   ]
  },
  {
   "cell_type": "markdown",
   "id": "d2ea546f",
   "metadata": {},
   "source": [
    "And ufunc operations are not limited to one-dimensional arrays–they can also act on multi-dimensional arrays as well:"
   ]
  },
  {
   "cell_type": "code",
   "execution_count": 27,
   "id": "8a7dfc87",
   "metadata": {},
   "outputs": [
    {
     "name": "stdout",
     "output_type": "stream",
     "text": [
      "[[0 1 2]\n",
      " [3 4 5]\n",
      " [6 7 8]]\n"
     ]
    }
   ],
   "source": [
    "mat = np.arange(9).reshape(3,3)\n",
    "print(mat)"
   ]
  },
  {
   "cell_type": "code",
   "execution_count": 28,
   "id": "6ecdc05b",
   "metadata": {},
   "outputs": [
    {
     "data": {
      "text/plain": [
       "array([[ 0,  1,  4],\n",
       "       [ 9, 16, 25],\n",
       "       [36, 49, 64]], dtype=int32)"
      ]
     },
     "execution_count": 28,
     "metadata": {},
     "output_type": "execute_result"
    }
   ],
   "source": [
    "mat**2"
   ]
  },
  {
   "cell_type": "markdown",
   "id": "9696d909",
   "metadata": {},
   "source": [
    "Computations using vectorization through ufuncs are nearly always more efficient than their counterpart implemented using Python loops, especially as the arrays grow in size. Any time you see such a loop in a Python script, you should consider whether it can be replaced with a vectorized expression."
   ]
  },
  {
   "cell_type": "markdown",
   "id": "a6421d83",
   "metadata": {},
   "source": [
    "### Array Arithmatic"
   ]
  },
  {
   "cell_type": "markdown",
   "id": "a895b4d4",
   "metadata": {},
   "source": [
    "NumPy's ufuncs feel very natural to use because they make use of Python's native arithmetic operators. The standard addition, subtraction, multiplication, and division can all be used:"
   ]
  },
  {
   "cell_type": "code",
   "execution_count": 32,
   "id": "cd144b6a",
   "metadata": {},
   "outputs": [
    {
     "name": "stdout",
     "output_type": "stream",
     "text": [
      "x =  [1 2 3 4 5]\n",
      "x+5 =  [ 6  7  8  9 10]\n",
      "x-5 =  [-4 -3 -2 -1  0]\n",
      "x*2 =  [ 2  4  6  8 10]\n",
      "x/2 =  [0.5 1.  1.5 2.  2.5]\n",
      "x//2 =  [0 1 1 2 2]\n",
      "-x  = [-1 -2 -3 -4 -5]\n",
      "x**2 = [ 1  4  9 16 25]\n",
      "x%2 = [1 0 1 0 1]\n"
     ]
    }
   ],
   "source": [
    "x = np.arange(1,6)\n",
    "print(\"x = \", x)\n",
    "print(\"x+5 = \", x+5)\n",
    "print(\"x-5 = \", x-5)\n",
    "print(\"x*2 = \", x*2)\n",
    "print(\"x/2 = \", x/2)\n",
    "print(\"x//2 = \", x//2)# floor division\n",
    "print(\"-x  =\", -x)\n",
    "print(\"x**2 =\", x**2)\n",
    "print(\"x%2 =\", x%2 )"
   ]
  },
  {
   "cell_type": "markdown",
   "id": "13e6ce41",
   "metadata": {},
   "source": [
    "To print prime numbers between limits"
   ]
  },
  {
   "cell_type": "code",
   "execution_count": 77,
   "id": "f2c8ff6d",
   "metadata": {},
   "outputs": [
    {
     "name": "stdout",
     "output_type": "stream",
     "text": [
      "2 is a prime number\n",
      "3 is a prime number\n",
      "5 is a prime number\n",
      "7 is a prime number\n",
      "11 is a prime number\n",
      "13 is a prime number\n",
      "17 is a prime number\n",
      "19 is a prime number\n"
     ]
    }
   ],
   "source": [
    "lower = 2\n",
    "upper = 20\n",
    "for num in range(lower, upper+1):\n",
    "    if num>1:\n",
    "        for i in range(2,num):\n",
    "            if (num%i == 0):\n",
    "               break\n",
    "        else:\n",
    "            print(num, \"is a prime number\")"
   ]
  },
  {
   "cell_type": "markdown",
   "id": "a09d7ecf",
   "metadata": {},
   "source": [
    "To print Prime and Non-Prime numbers between limts"
   ]
  },
  {
   "cell_type": "code",
   "execution_count": 75,
   "id": "1c088429",
   "metadata": {},
   "outputs": [
    {
     "name": "stdout",
     "output_type": "stream",
     "text": [
      "Prime numbers between 2 and 10 are:\n",
      "2 is a prime number\n",
      "3 is a prime number\n",
      "4 is not a prime number\n",
      "5 is a prime number\n",
      "6 is not a prime number\n",
      "7 is a prime number\n",
      "8 is not a prime number\n",
      "9 is not a prime number\n"
     ]
    }
   ],
   "source": [
    "lower = 2\n",
    "upper = 10\n",
    "\n",
    "print(\"Prime numbers between\", lower, \"and\", upper, \"are:\")\n",
    "\n",
    "for num in range(lower, upper):\n",
    "   # all prime numbers are greater than 1\n",
    "   if num > 1:\n",
    "       for i in range(2, int(num/2)+1):\n",
    "           if (num % i) == 0:\n",
    "                print(num,\"is not a prime number\" )\n",
    "                break\n",
    "       else:\n",
    "           print(num, \"is a prime number\")"
   ]
  },
  {
   "cell_type": "markdown",
   "id": "976171fa",
   "metadata": {},
   "source": [
    "To find whether the given number is prime or not"
   ]
  },
  {
   "cell_type": "code",
   "execution_count": 74,
   "id": "9303a035",
   "metadata": {},
   "outputs": [
    {
     "name": "stdout",
     "output_type": "stream",
     "text": [
      "17 is a prime number\n"
     ]
    }
   ],
   "source": [
    "# Python program to check if\n",
    "# given number is prime or not\n",
    "num = 17\n",
    "# If given number is greater than 1\n",
    "if num > 1:\n",
    "  # Iterate from 2 to n / 2\n",
    "    for i in range(2, int(num/2)+1):\n",
    "        # If num is divisible by any number between\n",
    "        # 2 and n / 2, it is not prime\n",
    "        if (num % i) == 0:\n",
    "            print(num, \"is not a prime number\")\n",
    "            break\n",
    "    else:\n",
    "        print(num, \"is a prime number\")"
   ]
  },
  {
   "cell_type": "code",
   "execution_count": 73,
   "id": "463d960a",
   "metadata": {},
   "outputs": [
    {
     "name": "stdout",
     "output_type": "stream",
     "text": [
      "2 is a prime number\n",
      "3 is a prime number\n",
      "4 is not a prime number\n",
      "5 is a prime number\n",
      "6 is not a prime number\n",
      "7 is a prime number\n",
      "8 is not a prime number\n",
      "9 is a prime number\n"
     ]
    }
   ],
   "source": [
    "lower = 2\n",
    "upper = 9\n",
    "for num in range(lower, upper+1):\n",
    "    if num>1:\n",
    "        for i in range(2, int(num/2)+1):\n",
    "            if(num%2 ==0):\n",
    "                print(num,\"is not a prime number\")\n",
    "                break\n",
    "        else:\n",
    "                print(num,\"is a prime number\")\n"
   ]
  },
  {
   "cell_type": "code",
   "execution_count": 80,
   "id": "812774ce",
   "metadata": {},
   "outputs": [
    {
     "name": "stdout",
     "output_type": "stream",
     "text": [
      "[1 2 3 4 5 6 7 8 9]\n"
     ]
    }
   ],
   "source": [
    "x = np.arange(1,10)\n",
    "print(x)"
   ]
  },
  {
   "cell_type": "code",
   "execution_count": 82,
   "id": "2454b42f",
   "metadata": {},
   "outputs": [
    {
     "data": {
      "text/plain": [
       "array([ -2.25,  -4.  ,  -6.25,  -9.  , -12.25, -16.  , -20.25, -25.  ,\n",
       "       -30.25])"
      ]
     },
     "execution_count": 82,
     "metadata": {},
     "output_type": "execute_result"
    }
   ],
   "source": [
    "-(0.5*x+1)**2"
   ]
  },
  {
   "cell_type": "code",
   "execution_count": 83,
   "id": "10183cf8",
   "metadata": {},
   "outputs": [
    {
     "data": {
      "text/plain": [
       "array([ 3,  4,  5,  6,  7,  8,  9, 10, 11])"
      ]
     },
     "execution_count": 83,
     "metadata": {},
     "output_type": "execute_result"
    }
   ],
   "source": [
    "np.add(x,2)"
   ]
  },
  {
   "cell_type": "code",
   "execution_count": 85,
   "id": "218babf6",
   "metadata": {},
   "outputs": [
    {
     "data": {
      "text/plain": [
       "array([2, 4, 1, 2, 3])"
      ]
     },
     "execution_count": 85,
     "metadata": {},
     "output_type": "execute_result"
    }
   ],
   "source": [
    "x = np.array([-2,-4,1,2,3])\n",
    "abs(x)"
   ]
  },
  {
   "cell_type": "code",
   "execution_count": 86,
   "id": "094687df",
   "metadata": {},
   "outputs": [
    {
     "name": "stdout",
     "output_type": "stream",
     "text": [
      "[-4 -6 -1  0  1]\n"
     ]
    }
   ],
   "source": [
    "y = np.subtract(x,2)\n",
    "print(y)"
   ]
  },
  {
   "cell_type": "code",
   "execution_count": 87,
   "id": "70aa35d4",
   "metadata": {},
   "outputs": [
    {
     "name": "stdout",
     "output_type": "stream",
     "text": [
      "[ 4 16  1  4  9]\n"
     ]
    }
   ],
   "source": [
    "y = np.power(x,2)\n",
    "print(y)"
   ]
  },
  {
   "cell_type": "code",
   "execution_count": 89,
   "id": "14c0aa96",
   "metadata": {},
   "outputs": [
    {
     "data": {
      "text/plain": [
       "array([2, 4, 1, 2, 3])"
      ]
     },
     "execution_count": 89,
     "metadata": {},
     "output_type": "execute_result"
    }
   ],
   "source": [
    "np.abs(x)"
   ]
  },
  {
   "cell_type": "code",
   "execution_count": 90,
   "id": "f103b22a",
   "metadata": {},
   "outputs": [
    {
     "data": {
      "text/plain": [
       "array([2, 4, 1, 2, 3])"
      ]
     },
     "execution_count": 90,
     "metadata": {},
     "output_type": "execute_result"
    }
   ],
   "source": [
    "np.absolute(x)"
   ]
  },
  {
   "cell_type": "markdown",
   "id": "365f5cc4",
   "metadata": {},
   "source": [
    "This ufunc can also handle complex data, in which the absolute value returns the magnitude:"
   ]
  },
  {
   "cell_type": "code",
   "execution_count": 93,
   "id": "921dbd03",
   "metadata": {},
   "outputs": [
    {
     "data": {
      "text/plain": [
       "array([5., 5., 2., 1.])"
      ]
     },
     "execution_count": 93,
     "metadata": {},
     "output_type": "execute_result"
    }
   ],
   "source": [
    "x = np.array([3 - 4j, 4 - 3j, 2 + 0j, 0 + 1j])\n",
    "np.abs(x)"
   ]
  },
  {
   "cell_type": "code",
   "execution_count": 94,
   "id": "aa8da541",
   "metadata": {},
   "outputs": [
    {
     "data": {
      "text/plain": [
       "array([3.60555128, 3.60555128])"
      ]
     },
     "execution_count": 94,
     "metadata": {},
     "output_type": "execute_result"
    }
   ],
   "source": [
    "y = np.array([2-3j, 3-2j])\n",
    "np.absolute(y)"
   ]
  },
  {
   "cell_type": "markdown",
   "id": "c8544ade",
   "metadata": {},
   "source": [
    "### Trigonometric functions"
   ]
  },
  {
   "cell_type": "code",
   "execution_count": 97,
   "id": "11e12f26",
   "metadata": {},
   "outputs": [
    {
     "name": "stdout",
     "output_type": "stream",
     "text": [
      "Theta: [0.         1.57079633 3.14159265]\n",
      "Cos(Theta): [ 1.000000e+00  6.123234e-17 -1.000000e+00]\n",
      "sin(Theta): [0.0000000e+00 1.0000000e+00 1.2246468e-16]\n"
     ]
    }
   ],
   "source": [
    "Theta = np.linspace(0, np.pi, 3)\n",
    "print(\"Theta:\", Theta)\n",
    "print(\"Cos(Theta):\", np.cos(Theta))\n",
    "print(\"sin(Theta):\", np.sin(Theta))"
   ]
  },
  {
   "cell_type": "code",
   "execution_count": 98,
   "id": "340cfe93",
   "metadata": {},
   "outputs": [
    {
     "name": "stdout",
     "output_type": "stream",
     "text": [
      "arcsin: [-1.57079633  0.          1.57079633]\n"
     ]
    }
   ],
   "source": [
    "x = [-1, 0, 1]\n",
    "print(\"arcsin:\", np.arcsin(x))"
   ]
  },
  {
   "cell_type": "code",
   "execution_count": 99,
   "id": "ed167aed",
   "metadata": {},
   "outputs": [
    {
     "name": "stdout",
     "output_type": "stream",
     "text": [
      "arccos: [3.14159265 1.57079633 0.        ]\n"
     ]
    }
   ],
   "source": [
    "print(\"arccos:\", np.arccos(x))"
   ]
  },
  {
   "cell_type": "code",
   "execution_count": 102,
   "id": "dad4df23",
   "metadata": {},
   "outputs": [
    {
     "name": "stdout",
     "output_type": "stream",
     "text": [
      "arctan: [-0.78539816  0.          0.78539816]\n"
     ]
    }
   ],
   "source": [
    "print(\"arctan:\", np.arctan(x))"
   ]
  },
  {
   "cell_type": "markdown",
   "id": "a6c53c27",
   "metadata": {},
   "source": [
    "### Exponents and logarithms"
   ]
  },
  {
   "cell_type": "markdown",
   "id": "b42e9196",
   "metadata": {},
   "source": [
    "Another common type of operation available in a NumPy ufunc are the exponentials:"
   ]
  },
  {
   "cell_type": "code",
   "execution_count": 115,
   "id": "ad0573d8",
   "metadata": {},
   "outputs": [
    {
     "name": "stdout",
     "output_type": "stream",
     "text": [
      "x: [1, 2, 4, 10]\n",
      "e^x: [2.71828183e+00 7.38905610e+00 5.45981500e+01 2.20264658e+04]\n",
      "2^x: [   2.    4.   16. 1024.]\n",
      "3^x: [   1    8   64 1000]\n"
     ]
    }
   ],
   "source": [
    "X = [1,2,3]\n",
    "print(\"x:\", x)\n",
    "print(\"e^x:\", np.exp(x))\n",
    "print(\"2^x:\", np.exp2(x))\n",
    "print(\"3^x:\", np.power(x, 3))"
   ]
  },
  {
   "cell_type": "markdown",
   "id": "5c7c3aa8",
   "metadata": {},
   "source": [
    "The inverse of the exponentials, the logarithms, are also available. The basic np.log gives the natural logarithm; if you prefer to compute the base-2 logarithm or the base-10 logarithm, these are available as well:"
   ]
  },
  {
   "cell_type": "code",
   "execution_count": 112,
   "id": "d9379768",
   "metadata": {},
   "outputs": [
    {
     "name": "stdout",
     "output_type": "stream",
     "text": [
      "ln: [0.         0.69314718 1.38629436 2.30258509]\n"
     ]
    }
   ],
   "source": [
    "x = [1,2,4,10]\n",
    "print(\"ln:\", np.log(x))"
   ]
  },
  {
   "cell_type": "code",
   "execution_count": 114,
   "id": "909902dd",
   "metadata": {},
   "outputs": [
    {
     "name": "stdout",
     "output_type": "stream",
     "text": [
      "Log2: [0.         1.         2.         3.32192809]\n"
     ]
    }
   ],
   "source": [
    "print(\"Log2:\", np.log2(x))"
   ]
  },
  {
   "cell_type": "code",
   "execution_count": 116,
   "id": "9e3abd09",
   "metadata": {},
   "outputs": [
    {
     "name": "stdout",
     "output_type": "stream",
     "text": [
      "log10: [0.         0.30103    0.60205999 1.        ]\n"
     ]
    }
   ],
   "source": [
    "print(\"log10:\", np.log10(x))"
   ]
  },
  {
   "cell_type": "markdown",
   "id": "fbb1454b",
   "metadata": {},
   "source": [
    "There are also some specialized versions that are useful for maintaining precision with very small input:"
   ]
  },
  {
   "cell_type": "code",
   "execution_count": 120,
   "id": "96f57713",
   "metadata": {},
   "outputs": [
    {
     "name": "stdout",
     "output_type": "stream",
     "text": [
      "exp(x)-1: [0.         0.0010005  0.01005017]\n"
     ]
    }
   ],
   "source": [
    "x = [0,0.001,0.01]\n",
    "print(\"exp(x)-1:\",np.expm1(x))"
   ]
  },
  {
   "cell_type": "code",
   "execution_count": 122,
   "id": "8655d809",
   "metadata": {},
   "outputs": [
    {
     "name": "stdout",
     "output_type": "stream",
     "text": [
      "log(x+1): [0.         0.0009995  0.00995033]\n"
     ]
    }
   ],
   "source": [
    "print(\"log(x+1):\", np.log1p(x))"
   ]
  },
  {
   "cell_type": "markdown",
   "id": "b1d56859",
   "metadata": {},
   "source": [
    "### Specialized ufuncs"
   ]
  },
  {
   "cell_type": "code",
   "execution_count": 123,
   "id": "0ff9d617",
   "metadata": {},
   "outputs": [],
   "source": [
    "from scipy import special"
   ]
  },
  {
   "cell_type": "code",
   "execution_count": 124,
   "id": "ae31fa11",
   "metadata": {},
   "outputs": [
    {
     "name": "stdout",
     "output_type": "stream",
     "text": [
      "gamma: [ 1.  1. 24.]\n"
     ]
    }
   ],
   "source": [
    "# Gamma functions (generalized factorials) and related function\n",
    "\n",
    "x = [1,2,5]\n",
    "print(\"gamma:\", special.gamma(x))"
   ]
  },
  {
   "cell_type": "code",
   "execution_count": 125,
   "id": "a0ce5546",
   "metadata": {},
   "outputs": [
    {
     "name": "stdout",
     "output_type": "stream",
     "text": [
      "gammaln: [0.         0.         3.17805383]\n"
     ]
    }
   ],
   "source": [
    "print(\"gammaln:\", special.gammaln(x))"
   ]
  },
  {
   "cell_type": "code",
   "execution_count": 126,
   "id": "3c0ce224",
   "metadata": {},
   "outputs": [
    {
     "name": "stdout",
     "output_type": "stream",
     "text": [
      "beta: [0.5        0.16666667 0.03333333]\n"
     ]
    }
   ],
   "source": [
    "print(\"beta:\", special.beta(x,2))"
   ]
  },
  {
   "cell_type": "code",
   "execution_count": 128,
   "id": "dbab19b3",
   "metadata": {},
   "outputs": [
    {
     "name": "stdout",
     "output_type": "stream",
     "text": [
      "err: [0.         0.32862676 0.67780119 0.79690821]\n"
     ]
    }
   ],
   "source": [
    "# Error function (integral of Gaussian)\n",
    "# its complement, and its inverse\n",
    "x = np.array([0,0.3,0.7,0.9])\n",
    "print(\"err:\", special.erf(x))"
   ]
  },
  {
   "cell_type": "code",
   "execution_count": 129,
   "id": "8a6fef1b",
   "metadata": {},
   "outputs": [
    {
     "name": "stdout",
     "output_type": "stream",
     "text": [
      "errfc: [1.         0.67137324 0.32219881 0.20309179]\n"
     ]
    }
   ],
   "source": [
    "print(\"errfc:\",special.erfc(x))"
   ]
  },
  {
   "cell_type": "code",
   "execution_count": 130,
   "id": "7b3bd42c",
   "metadata": {},
   "outputs": [
    {
     "name": "stdout",
     "output_type": "stream",
     "text": [
      "erfinv: [0.         0.27246271 0.73286908 1.16308715]\n"
     ]
    }
   ],
   "source": [
    "print(\"erfinv:\", special.erfinv(x))"
   ]
  },
  {
   "cell_type": "code",
   "execution_count": 134,
   "id": "b5f224cb",
   "metadata": {},
   "outputs": [
    {
     "name": "stdout",
     "output_type": "stream",
     "text": [
      "[ 0.  3.  6.  9. 12.]\n"
     ]
    }
   ],
   "source": [
    "x = np.arange(5)\n",
    "y = np.empty(5)\n",
    "np.multiply(x,3, out = y)\n",
    "print(y)"
   ]
  },
  {
   "cell_type": "code",
   "execution_count": 135,
   "id": "f169b3bc",
   "metadata": {},
   "outputs": [
    {
     "name": "stdout",
     "output_type": "stream",
     "text": [
      "[ 0.  0.  1.  0.  4.  0.  9.  0. 16.  0.]\n"
     ]
    }
   ],
   "source": [
    "y = np.zeros(10)\n",
    "np.power(x,2,out = y[::2])\n",
    "print(y)"
   ]
  },
  {
   "cell_type": "markdown",
   "id": "c6ccf37c",
   "metadata": {},
   "source": [
    "### Agregates"
   ]
  },
  {
   "cell_type": "markdown",
   "id": "49c5d83d",
   "metadata": {},
   "source": [
    "For binary ufuncs, there are some interesting aggregates that can be computed directly from the object. For example, if we'd like to reduce an array with a particular operation, we can use the reduce method of any ufunc. A reduce repeatedly applies a given operation to the elements of an array until only a single result remains.\n",
    "\n",
    "For example, calling reduce on the add ufunc returns the sum of all elements in the array:"
   ]
  },
  {
   "cell_type": "code",
   "execution_count": 137,
   "id": "388988c4",
   "metadata": {},
   "outputs": [
    {
     "data": {
      "text/plain": [
       "10"
      ]
     },
     "execution_count": 137,
     "metadata": {},
     "output_type": "execute_result"
    }
   ],
   "source": [
    "x = np.arange(1,5)\n",
    "np.add.reduce(x)"
   ]
  },
  {
   "cell_type": "markdown",
   "id": "c261df27",
   "metadata": {},
   "source": [
    "Similarly, calling reduce on the multiply ufunc results in the product of all array elements:"
   ]
  },
  {
   "cell_type": "code",
   "execution_count": 138,
   "id": "739d44b0",
   "metadata": {},
   "outputs": [
    {
     "data": {
      "text/plain": [
       "24"
      ]
     },
     "execution_count": 138,
     "metadata": {},
     "output_type": "execute_result"
    }
   ],
   "source": [
    "np.multiply.reduce(x)"
   ]
  },
  {
   "cell_type": "markdown",
   "id": "0a9ede69",
   "metadata": {},
   "source": [
    "If we'd like to store all the intermediate results of the computation, we can instead use accumulate:"
   ]
  },
  {
   "cell_type": "code",
   "execution_count": 139,
   "id": "8754f9f9",
   "metadata": {},
   "outputs": [
    {
     "data": {
      "text/plain": [
       "array([ 1,  3,  6, 10], dtype=int32)"
      ]
     },
     "execution_count": 139,
     "metadata": {},
     "output_type": "execute_result"
    }
   ],
   "source": [
    "np.add.accumulate(x)"
   ]
  },
  {
   "cell_type": "code",
   "execution_count": 140,
   "id": "db335211",
   "metadata": {},
   "outputs": [
    {
     "data": {
      "text/plain": [
       "array([ 1,  2,  6, 24], dtype=int32)"
      ]
     },
     "execution_count": 140,
     "metadata": {},
     "output_type": "execute_result"
    }
   ],
   "source": [
    "np.multiply.accumulate(x)"
   ]
  },
  {
   "cell_type": "markdown",
   "id": "433cac7d",
   "metadata": {},
   "source": [
    "### Outer products"
   ]
  },
  {
   "cell_type": "markdown",
   "id": "3fbd8329",
   "metadata": {},
   "source": [
    "Finally, any ufunc can compute the output of all pairs of two different inputs using the outer method. This allows you, in one line, to do things like create a multiplication table:"
   ]
  },
  {
   "cell_type": "code",
   "execution_count": 141,
   "id": "1509d7bd",
   "metadata": {},
   "outputs": [
    {
     "data": {
      "text/plain": [
       "array([[ 1,  2,  3,  4,  5],\n",
       "       [ 2,  4,  6,  8, 10],\n",
       "       [ 3,  6,  9, 12, 15],\n",
       "       [ 4,  8, 12, 16, 20],\n",
       "       [ 5, 10, 15, 20, 25]])"
      ]
     },
     "execution_count": 141,
     "metadata": {},
     "output_type": "execute_result"
    }
   ],
   "source": [
    "x = np.arange(1,6)\n",
    "np.multiply.outer(x,x)"
   ]
  },
  {
   "cell_type": "code",
   "execution_count": null,
   "id": "909c2822",
   "metadata": {},
   "outputs": [],
   "source": []
  }
 ],
 "metadata": {
  "kernelspec": {
   "display_name": "Python 3 (ipykernel)",
   "language": "python",
   "name": "python3"
  },
  "language_info": {
   "codemirror_mode": {
    "name": "ipython",
    "version": 3
   },
   "file_extension": ".py",
   "mimetype": "text/x-python",
   "name": "python",
   "nbconvert_exporter": "python",
   "pygments_lexer": "ipython3",
   "version": "3.9.7"
  }
 },
 "nbformat": 4,
 "nbformat_minor": 5
}
