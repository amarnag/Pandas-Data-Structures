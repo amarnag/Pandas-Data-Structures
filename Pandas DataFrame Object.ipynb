{
 "cells": [
  {
   "cell_type": "markdown",
   "id": "4d53f0cd",
   "metadata": {},
   "source": [
    "## Pandas DataFrame"
   ]
  },
  {
   "cell_type": "code",
   "execution_count": 1,
   "id": "96846f01",
   "metadata": {},
   "outputs": [
    {
     "data": {
      "text/plain": [
       "'1.3.4'"
      ]
     },
     "execution_count": 1,
     "metadata": {},
     "output_type": "execute_result"
    }
   ],
   "source": [
    "import pandas as pd\n",
    "pd.__version__"
   ]
  },
  {
   "cell_type": "markdown",
   "id": "fcee820d",
   "metadata": {},
   "source": [
    "### DataFrame as a Dictionary"
   ]
  },
  {
   "cell_type": "markdown",
   "id": "ddbc4558",
   "metadata": {},
   "source": [
    "The first analogy we will consider is the DataFrame as a dictionary of related Series objects. Let's return to an example of Population and Sex Ratio and Literacy Rate of different places:"
   ]
  },
  {
   "cell_type": "code",
   "execution_count": 2,
   "id": "1dc68edc",
   "metadata": {},
   "outputs": [
    {
     "data": {
      "text/plain": [
       "Gralazala          66070\n",
       "Dachepalli         75233\n",
       "Piduguralla       122319\n",
       "Karempudi          52365\n",
       "Rentachinthala     49827\n",
       "Durgi              49095\n",
       "Macherla          113048\n",
       "dtype: int64"
      ]
     },
     "execution_count": 2,
     "metadata": {},
     "output_type": "execute_result"
    }
   ],
   "source": [
    "Population = {'Gralazala': 66070,\n",
    "        'Dachepalli': 75233,\n",
    "        'Piduguralla': 122319,\n",
    "        'Karempudi': 52365,\n",
    "        'Rentachinthala':49827,\n",
    "        'Durgi':49095,\n",
    "        'Macherla': 113048}\n",
    "Population = pd.Series(Population)\n",
    "\n",
    "Population"
   ]
  },
  {
   "cell_type": "code",
   "execution_count": 3,
   "id": "c61cc489",
   "metadata": {},
   "outputs": [
    {
     "data": {
      "text/plain": [
       "Gralazala         1005\n",
       "Dachepalli        1000\n",
       "Piduguralla        994\n",
       "Karempudi          974\n",
       "Rentachinthala     988\n",
       "Durgi              997\n",
       "Macherla           978\n",
       "dtype: int64"
      ]
     },
     "execution_count": 3,
     "metadata": {},
     "output_type": "execute_result"
    }
   ],
   "source": [
    "SRatio = {'Gralazala': 1005,\n",
    "        'Dachepalli': 1000,\n",
    "        'Piduguralla': 994,\n",
    "        'Karempudi': 974,\n",
    "        'Rentachinthala': 988,\n",
    "        'Durgi':997,\n",
    "        'Macherla': 978}\n",
    "\n",
    "SRatio = pd.Series(SRatio)\n",
    "SRatio"
   ]
  },
  {
   "cell_type": "code",
   "execution_count": 4,
   "id": "b9c78486",
   "metadata": {},
   "outputs": [
    {
     "data": {
      "text/plain": [
       "Gralazala         50.3\n",
       "Dachepalli        51.9\n",
       "Piduguralla       55.4\n",
       "Karempudi         49.9\n",
       "Rentachinthala    48.2\n",
       "Durgi             46.5\n",
       "Macherla          55.6\n",
       "dtype: float64"
      ]
     },
     "execution_count": 4,
     "metadata": {},
     "output_type": "execute_result"
    }
   ],
   "source": [
    "LRate = {'Gralazala': 50.3,\n",
    "        'Dachepalli': 51.9,\n",
    "        'Piduguralla': 55.4,\n",
    "        'Karempudi': 49.9,\n",
    "        'Rentachinthala': 48.2,\n",
    "        'Durgi': 46.5,\n",
    "        'Macherla': 55.6}\n",
    "LRate = pd.Series(LRate)\n",
    "LRate"
   ]
  },
  {
   "cell_type": "code",
   "execution_count": 5,
   "id": "52c66caa",
   "metadata": {},
   "outputs": [
    {
     "data": {
      "text/html": [
       "<div>\n",
       "<style scoped>\n",
       "    .dataframe tbody tr th:only-of-type {\n",
       "        vertical-align: middle;\n",
       "    }\n",
       "\n",
       "    .dataframe tbody tr th {\n",
       "        vertical-align: top;\n",
       "    }\n",
       "\n",
       "    .dataframe thead th {\n",
       "        text-align: right;\n",
       "    }\n",
       "</style>\n",
       "<table border=\"1\" class=\"dataframe\">\n",
       "  <thead>\n",
       "    <tr style=\"text-align: right;\">\n",
       "      <th></th>\n",
       "      <th>Population</th>\n",
       "      <th>SRatio</th>\n",
       "      <th>LRate</th>\n",
       "    </tr>\n",
       "  </thead>\n",
       "  <tbody>\n",
       "    <tr>\n",
       "      <th>Gralazala</th>\n",
       "      <td>66070</td>\n",
       "      <td>1005</td>\n",
       "      <td>50.3</td>\n",
       "    </tr>\n",
       "    <tr>\n",
       "      <th>Dachepalli</th>\n",
       "      <td>75233</td>\n",
       "      <td>1000</td>\n",
       "      <td>51.9</td>\n",
       "    </tr>\n",
       "    <tr>\n",
       "      <th>Piduguralla</th>\n",
       "      <td>122319</td>\n",
       "      <td>994</td>\n",
       "      <td>55.4</td>\n",
       "    </tr>\n",
       "    <tr>\n",
       "      <th>Karempudi</th>\n",
       "      <td>52365</td>\n",
       "      <td>974</td>\n",
       "      <td>49.9</td>\n",
       "    </tr>\n",
       "    <tr>\n",
       "      <th>Rentachinthala</th>\n",
       "      <td>49827</td>\n",
       "      <td>988</td>\n",
       "      <td>48.2</td>\n",
       "    </tr>\n",
       "    <tr>\n",
       "      <th>Durgi</th>\n",
       "      <td>49095</td>\n",
       "      <td>997</td>\n",
       "      <td>46.5</td>\n",
       "    </tr>\n",
       "    <tr>\n",
       "      <th>Macherla</th>\n",
       "      <td>113048</td>\n",
       "      <td>978</td>\n",
       "      <td>55.6</td>\n",
       "    </tr>\n",
       "  </tbody>\n",
       "</table>\n",
       "</div>"
      ],
      "text/plain": [
       "                Population  SRatio  LRate\n",
       "Gralazala            66070    1005   50.3\n",
       "Dachepalli           75233    1000   51.9\n",
       "Piduguralla         122319     994   55.4\n",
       "Karempudi            52365     974   49.9\n",
       "Rentachinthala       49827     988   48.2\n",
       "Durgi                49095     997   46.5\n",
       "Macherla            113048     978   55.6"
      ]
     },
     "execution_count": 5,
     "metadata": {},
     "output_type": "execute_result"
    }
   ],
   "source": [
    "data = pd.DataFrame({'Population':Population, 'SRatio':SRatio, 'LRate':LRate})\n",
    "data"
   ]
  },
  {
   "cell_type": "markdown",
   "id": "5873afa2",
   "metadata": {},
   "source": [
    "Like the Series object, the DataFrame has an index attribute that gives access to the index labels:"
   ]
  },
  {
   "cell_type": "code",
   "execution_count": 6,
   "id": "e6a11c52",
   "metadata": {},
   "outputs": [
    {
     "data": {
      "text/plain": [
       "Index(['Gralazala', 'Dachepalli', 'Piduguralla', 'Karempudi', 'Rentachinthala',\n",
       "       'Durgi', 'Macherla'],\n",
       "      dtype='object')"
      ]
     },
     "execution_count": 6,
     "metadata": {},
     "output_type": "execute_result"
    }
   ],
   "source": [
    "data.index"
   ]
  },
  {
   "cell_type": "markdown",
   "id": "82b8cc25",
   "metadata": {},
   "source": [
    "Additionally, the DataFrame has a columns attribute, which is an Index object holding the column labels:"
   ]
  },
  {
   "cell_type": "code",
   "execution_count": 7,
   "id": "794fe192",
   "metadata": {},
   "outputs": [
    {
     "data": {
      "text/plain": [
       "Index(['Population', 'SRatio', 'LRate'], dtype='object')"
      ]
     },
     "execution_count": 7,
     "metadata": {},
     "output_type": "execute_result"
    }
   ],
   "source": [
    "data.columns"
   ]
  },
  {
   "cell_type": "markdown",
   "id": "91d10cbe",
   "metadata": {},
   "source": [
    "Similarly, we can also think of a DataFrame as a specialization of a dictionary. Where a dictionary maps a key to a value, a DataFrame maps a column name to a Series of column data. For example, asking for the 'LRate' attribute returns the Series object containing the LRate we saw earlier:"
   ]
  },
  {
   "cell_type": "code",
   "execution_count": 8,
   "id": "a62964cd",
   "metadata": {},
   "outputs": [
    {
     "data": {
      "text/plain": [
       "Gralazala         1005\n",
       "Dachepalli        1000\n",
       "Piduguralla        994\n",
       "Karempudi          974\n",
       "Rentachinthala     988\n",
       "Durgi              997\n",
       "Macherla           978\n",
       "Name: SRatio, dtype: int64"
      ]
     },
     "execution_count": 8,
     "metadata": {},
     "output_type": "execute_result"
    }
   ],
   "source": [
    "data['SRatio']"
   ]
  },
  {
   "cell_type": "markdown",
   "id": "68cfbc09",
   "metadata": {},
   "source": [
    "The individual Series that make up the columns of the DataFrame can be accessed via dictionary-style indexing of the column name:"
   ]
  },
  {
   "cell_type": "code",
   "execution_count": 9,
   "id": "b2b6020f",
   "metadata": {},
   "outputs": [
    {
     "data": {
      "text/plain": [
       "Gralazala          66070\n",
       "Dachepalli         75233\n",
       "Piduguralla       122319\n",
       "Karempudi          52365\n",
       "Rentachinthala     49827\n",
       "Durgi              49095\n",
       "Macherla          113048\n",
       "Name: Population, dtype: int64"
      ]
     },
     "execution_count": 9,
     "metadata": {},
     "output_type": "execute_result"
    }
   ],
   "source": [
    "data['Population']"
   ]
  },
  {
   "cell_type": "markdown",
   "id": "2c9588d1",
   "metadata": {},
   "source": [
    "Equivalently, we can use attribute-style access with column names that are strings:"
   ]
  },
  {
   "cell_type": "code",
   "execution_count": 10,
   "id": "14862942",
   "metadata": {},
   "outputs": [
    {
     "data": {
      "text/plain": [
       "Gralazala         1005\n",
       "Dachepalli        1000\n",
       "Piduguralla        994\n",
       "Karempudi          974\n",
       "Rentachinthala     988\n",
       "Durgi              997\n",
       "Macherla           978\n",
       "Name: SRatio, dtype: int64"
      ]
     },
     "execution_count": 10,
     "metadata": {},
     "output_type": "execute_result"
    }
   ],
   "source": [
    "data.SRatio"
   ]
  },
  {
   "cell_type": "code",
   "execution_count": 11,
   "id": "ffe49315",
   "metadata": {},
   "outputs": [
    {
     "data": {
      "text/html": [
       "<div>\n",
       "<style scoped>\n",
       "    .dataframe tbody tr th:only-of-type {\n",
       "        vertical-align: middle;\n",
       "    }\n",
       "\n",
       "    .dataframe tbody tr th {\n",
       "        vertical-align: top;\n",
       "    }\n",
       "\n",
       "    .dataframe thead th {\n",
       "        text-align: right;\n",
       "    }\n",
       "</style>\n",
       "<table border=\"1\" class=\"dataframe\">\n",
       "  <thead>\n",
       "    <tr style=\"text-align: right;\">\n",
       "      <th></th>\n",
       "      <th>Population</th>\n",
       "      <th>SRatio</th>\n",
       "    </tr>\n",
       "  </thead>\n",
       "  <tbody>\n",
       "    <tr>\n",
       "      <th>Gralazala</th>\n",
       "      <td>66070</td>\n",
       "      <td>1005</td>\n",
       "    </tr>\n",
       "    <tr>\n",
       "      <th>Dachepalli</th>\n",
       "      <td>75233</td>\n",
       "      <td>1000</td>\n",
       "    </tr>\n",
       "    <tr>\n",
       "      <th>Piduguralla</th>\n",
       "      <td>122319</td>\n",
       "      <td>994</td>\n",
       "    </tr>\n",
       "    <tr>\n",
       "      <th>Karempudi</th>\n",
       "      <td>52365</td>\n",
       "      <td>974</td>\n",
       "    </tr>\n",
       "    <tr>\n",
       "      <th>Rentachinthala</th>\n",
       "      <td>49827</td>\n",
       "      <td>988</td>\n",
       "    </tr>\n",
       "    <tr>\n",
       "      <th>Durgi</th>\n",
       "      <td>49095</td>\n",
       "      <td>997</td>\n",
       "    </tr>\n",
       "    <tr>\n",
       "      <th>Macherla</th>\n",
       "      <td>113048</td>\n",
       "      <td>978</td>\n",
       "    </tr>\n",
       "  </tbody>\n",
       "</table>\n",
       "</div>"
      ],
      "text/plain": [
       "                Population  SRatio\n",
       "Gralazala            66070    1005\n",
       "Dachepalli           75233    1000\n",
       "Piduguralla         122319     994\n",
       "Karempudi            52365     974\n",
       "Rentachinthala       49827     988\n",
       "Durgi                49095     997\n",
       "Macherla            113048     978"
      ]
     },
     "execution_count": 11,
     "metadata": {},
     "output_type": "execute_result"
    }
   ],
   "source": [
    "data.iloc[:,0:2]"
   ]
  },
  {
   "cell_type": "code",
   "execution_count": 12,
   "id": "2e83ebd7",
   "metadata": {},
   "outputs": [
    {
     "data": {
      "text/html": [
       "<div>\n",
       "<style scoped>\n",
       "    .dataframe tbody tr th:only-of-type {\n",
       "        vertical-align: middle;\n",
       "    }\n",
       "\n",
       "    .dataframe tbody tr th {\n",
       "        vertical-align: top;\n",
       "    }\n",
       "\n",
       "    .dataframe thead th {\n",
       "        text-align: right;\n",
       "    }\n",
       "</style>\n",
       "<table border=\"1\" class=\"dataframe\">\n",
       "  <thead>\n",
       "    <tr style=\"text-align: right;\">\n",
       "      <th></th>\n",
       "      <th>SRatio</th>\n",
       "      <th>LRate</th>\n",
       "    </tr>\n",
       "  </thead>\n",
       "  <tbody>\n",
       "    <tr>\n",
       "      <th>Piduguralla</th>\n",
       "      <td>994</td>\n",
       "      <td>55.4</td>\n",
       "    </tr>\n",
       "    <tr>\n",
       "      <th>Karempudi</th>\n",
       "      <td>974</td>\n",
       "      <td>49.9</td>\n",
       "    </tr>\n",
       "    <tr>\n",
       "      <th>Rentachinthala</th>\n",
       "      <td>988</td>\n",
       "      <td>48.2</td>\n",
       "    </tr>\n",
       "    <tr>\n",
       "      <th>Durgi</th>\n",
       "      <td>997</td>\n",
       "      <td>46.5</td>\n",
       "    </tr>\n",
       "  </tbody>\n",
       "</table>\n",
       "</div>"
      ],
      "text/plain": [
       "                SRatio  LRate\n",
       "Piduguralla        994   55.4\n",
       "Karempudi          974   49.9\n",
       "Rentachinthala     988   48.2\n",
       "Durgi              997   46.5"
      ]
     },
     "execution_count": 12,
     "metadata": {},
     "output_type": "execute_result"
    }
   ],
   "source": [
    "data.iloc[2:6,1:3]"
   ]
  },
  {
   "cell_type": "markdown",
   "id": "0e8aece1",
   "metadata": {},
   "source": [
    "### DataFrame as two-dimensional array"
   ]
  },
  {
   "cell_type": "markdown",
   "id": "84ee961e",
   "metadata": {},
   "source": [
    "As mentioned previously, we can also view the DataFrame as an enhanced two-dimensional array. We can examine the raw underlying data array using the values attribute:"
   ]
  },
  {
   "cell_type": "code",
   "execution_count": 13,
   "id": "f76eb5ac",
   "metadata": {},
   "outputs": [
    {
     "data": {
      "text/plain": [
       "array([[6.60700e+04, 1.00500e+03, 5.03000e+01],\n",
       "       [7.52330e+04, 1.00000e+03, 5.19000e+01],\n",
       "       [1.22319e+05, 9.94000e+02, 5.54000e+01],\n",
       "       [5.23650e+04, 9.74000e+02, 4.99000e+01],\n",
       "       [4.98270e+04, 9.88000e+02, 4.82000e+01],\n",
       "       [4.90950e+04, 9.97000e+02, 4.65000e+01],\n",
       "       [1.13048e+05, 9.78000e+02, 5.56000e+01]])"
      ]
     },
     "execution_count": 13,
     "metadata": {},
     "output_type": "execute_result"
    }
   ],
   "source": [
    "data.values"
   ]
  },
  {
   "cell_type": "code",
   "execution_count": 14,
   "id": "673a4425",
   "metadata": {},
   "outputs": [
    {
     "data": {
      "text/plain": [
       "Index(['Population', 'SRatio', 'LRate'], dtype='object')"
      ]
     },
     "execution_count": 14,
     "metadata": {},
     "output_type": "execute_result"
    }
   ],
   "source": [
    "data.keys()"
   ]
  },
  {
   "cell_type": "code",
   "execution_count": 15,
   "id": "88cf6033",
   "metadata": {},
   "outputs": [
    {
     "data": {
      "text/plain": [
       "Index(['Gralazala', 'Dachepalli', 'Piduguralla', 'Karempudi', 'Rentachinthala',\n",
       "       'Durgi', 'Macherla'],\n",
       "      dtype='object')"
      ]
     },
     "execution_count": 15,
     "metadata": {},
     "output_type": "execute_result"
    }
   ],
   "source": [
    "data.index"
   ]
  },
  {
   "cell_type": "markdown",
   "id": "3180d3bb",
   "metadata": {},
   "source": [
    "With this picture in mind, many familiar array-like observations can be done on the DataFrame itself. For example, we can transpose the full DataFrame to swap rows and columns:"
   ]
  },
  {
   "cell_type": "code",
   "execution_count": 16,
   "id": "b8d64c74",
   "metadata": {},
   "outputs": [
    {
     "data": {
      "text/html": [
       "<div>\n",
       "<style scoped>\n",
       "    .dataframe tbody tr th:only-of-type {\n",
       "        vertical-align: middle;\n",
       "    }\n",
       "\n",
       "    .dataframe tbody tr th {\n",
       "        vertical-align: top;\n",
       "    }\n",
       "\n",
       "    .dataframe thead th {\n",
       "        text-align: right;\n",
       "    }\n",
       "</style>\n",
       "<table border=\"1\" class=\"dataframe\">\n",
       "  <thead>\n",
       "    <tr style=\"text-align: right;\">\n",
       "      <th></th>\n",
       "      <th>Gralazala</th>\n",
       "      <th>Dachepalli</th>\n",
       "      <th>Piduguralla</th>\n",
       "      <th>Karempudi</th>\n",
       "      <th>Rentachinthala</th>\n",
       "      <th>Durgi</th>\n",
       "      <th>Macherla</th>\n",
       "    </tr>\n",
       "  </thead>\n",
       "  <tbody>\n",
       "    <tr>\n",
       "      <th>Population</th>\n",
       "      <td>66070.0</td>\n",
       "      <td>75233.0</td>\n",
       "      <td>122319.0</td>\n",
       "      <td>52365.0</td>\n",
       "      <td>49827.0</td>\n",
       "      <td>49095.0</td>\n",
       "      <td>113048.0</td>\n",
       "    </tr>\n",
       "    <tr>\n",
       "      <th>SRatio</th>\n",
       "      <td>1005.0</td>\n",
       "      <td>1000.0</td>\n",
       "      <td>994.0</td>\n",
       "      <td>974.0</td>\n",
       "      <td>988.0</td>\n",
       "      <td>997.0</td>\n",
       "      <td>978.0</td>\n",
       "    </tr>\n",
       "    <tr>\n",
       "      <th>LRate</th>\n",
       "      <td>50.3</td>\n",
       "      <td>51.9</td>\n",
       "      <td>55.4</td>\n",
       "      <td>49.9</td>\n",
       "      <td>48.2</td>\n",
       "      <td>46.5</td>\n",
       "      <td>55.6</td>\n",
       "    </tr>\n",
       "  </tbody>\n",
       "</table>\n",
       "</div>"
      ],
      "text/plain": [
       "            Gralazala  Dachepalli  Piduguralla  Karempudi  Rentachinthala  \\\n",
       "Population    66070.0     75233.0     122319.0    52365.0         49827.0   \n",
       "SRatio         1005.0      1000.0        994.0      974.0           988.0   \n",
       "LRate            50.3        51.9         55.4       49.9            48.2   \n",
       "\n",
       "              Durgi  Macherla  \n",
       "Population  49095.0  113048.0  \n",
       "SRatio        997.0     978.0  \n",
       "LRate          46.5      55.6  "
      ]
     },
     "execution_count": 16,
     "metadata": {},
     "output_type": "execute_result"
    }
   ],
   "source": [
    "data.T"
   ]
  },
  {
   "cell_type": "code",
   "execution_count": 17,
   "id": "d641ee58",
   "metadata": {},
   "outputs": [
    {
     "data": {
      "text/plain": [
       "array([7.5233e+04, 1.0000e+03, 5.1900e+01])"
      ]
     },
     "execution_count": 17,
     "metadata": {},
     "output_type": "execute_result"
    }
   ],
   "source": [
    "data.values[1]"
   ]
  },
  {
   "cell_type": "markdown",
   "id": "12a23159",
   "metadata": {},
   "source": [
    "The Pandas uses the `loc` and`iloc` indexers. Using the iloc indexer, we can index the underlying array as if it is a simple NumPy array (using the implicit Python-style index), but the DataFrame index and column labels are maintained in the result:"
   ]
  },
  {
   "cell_type": "code",
   "execution_count": 18,
   "id": "105d145a",
   "metadata": {},
   "outputs": [
    {
     "data": {
      "text/html": [
       "<div>\n",
       "<style scoped>\n",
       "    .dataframe tbody tr th:only-of-type {\n",
       "        vertical-align: middle;\n",
       "    }\n",
       "\n",
       "    .dataframe tbody tr th {\n",
       "        vertical-align: top;\n",
       "    }\n",
       "\n",
       "    .dataframe thead th {\n",
       "        text-align: right;\n",
       "    }\n",
       "</style>\n",
       "<table border=\"1\" class=\"dataframe\">\n",
       "  <thead>\n",
       "    <tr style=\"text-align: right;\">\n",
       "      <th></th>\n",
       "      <th>Population</th>\n",
       "      <th>SRatio</th>\n",
       "    </tr>\n",
       "  </thead>\n",
       "  <tbody>\n",
       "    <tr>\n",
       "      <th>Gralazala</th>\n",
       "      <td>66070</td>\n",
       "      <td>1005</td>\n",
       "    </tr>\n",
       "    <tr>\n",
       "      <th>Dachepalli</th>\n",
       "      <td>75233</td>\n",
       "      <td>1000</td>\n",
       "    </tr>\n",
       "    <tr>\n",
       "      <th>Piduguralla</th>\n",
       "      <td>122319</td>\n",
       "      <td>994</td>\n",
       "    </tr>\n",
       "    <tr>\n",
       "      <th>Karempudi</th>\n",
       "      <td>52365</td>\n",
       "      <td>974</td>\n",
       "    </tr>\n",
       "    <tr>\n",
       "      <th>Rentachinthala</th>\n",
       "      <td>49827</td>\n",
       "      <td>988</td>\n",
       "    </tr>\n",
       "  </tbody>\n",
       "</table>\n",
       "</div>"
      ],
      "text/plain": [
       "                Population  SRatio\n",
       "Gralazala            66070    1005\n",
       "Dachepalli           75233    1000\n",
       "Piduguralla         122319     994\n",
       "Karempudi            52365     974\n",
       "Rentachinthala       49827     988"
      ]
     },
     "execution_count": 18,
     "metadata": {},
     "output_type": "execute_result"
    }
   ],
   "source": [
    "data.iloc[:5, :2]"
   ]
  },
  {
   "cell_type": "markdown",
   "id": "122f3c25",
   "metadata": {},
   "source": [
    "Similarly, using the`loc` indexer we can index the underlying data in an array-like style but using the explicit index and column names:"
   ]
  },
  {
   "cell_type": "code",
   "execution_count": 19,
   "id": "7d995ea2",
   "metadata": {},
   "outputs": [
    {
     "data": {
      "text/plain": [
       "974"
      ]
     },
     "execution_count": 19,
     "metadata": {},
     "output_type": "execute_result"
    }
   ],
   "source": [
    "data.loc['Karempudi', 'SRatio']"
   ]
  },
  {
   "cell_type": "code",
   "execution_count": 20,
   "id": "17a4fbc4",
   "metadata": {},
   "outputs": [
    {
     "data": {
      "text/html": [
       "<div>\n",
       "<style scoped>\n",
       "    .dataframe tbody tr th:only-of-type {\n",
       "        vertical-align: middle;\n",
       "    }\n",
       "\n",
       "    .dataframe tbody tr th {\n",
       "        vertical-align: top;\n",
       "    }\n",
       "\n",
       "    .dataframe thead th {\n",
       "        text-align: right;\n",
       "    }\n",
       "</style>\n",
       "<table border=\"1\" class=\"dataframe\">\n",
       "  <thead>\n",
       "    <tr style=\"text-align: right;\">\n",
       "      <th></th>\n",
       "      <th>Population</th>\n",
       "      <th>SRatio</th>\n",
       "      <th>LRate</th>\n",
       "    </tr>\n",
       "  </thead>\n",
       "  <tbody>\n",
       "    <tr>\n",
       "      <th>Gralazala</th>\n",
       "      <td>66070</td>\n",
       "      <td>1005</td>\n",
       "      <td>50.3</td>\n",
       "    </tr>\n",
       "    <tr>\n",
       "      <th>Dachepalli</th>\n",
       "      <td>75233</td>\n",
       "      <td>1000</td>\n",
       "      <td>51.9</td>\n",
       "    </tr>\n",
       "    <tr>\n",
       "      <th>Piduguralla</th>\n",
       "      <td>122319</td>\n",
       "      <td>994</td>\n",
       "      <td>55.4</td>\n",
       "    </tr>\n",
       "    <tr>\n",
       "      <th>Karempudi</th>\n",
       "      <td>52365</td>\n",
       "      <td>974</td>\n",
       "      <td>49.9</td>\n",
       "    </tr>\n",
       "    <tr>\n",
       "      <th>Rentachinthala</th>\n",
       "      <td>49827</td>\n",
       "      <td>988</td>\n",
       "      <td>48.2</td>\n",
       "    </tr>\n",
       "  </tbody>\n",
       "</table>\n",
       "</div>"
      ],
      "text/plain": [
       "                Population  SRatio  LRate\n",
       "Gralazala            66070    1005   50.3\n",
       "Dachepalli           75233    1000   51.9\n",
       "Piduguralla         122319     994   55.4\n",
       "Karempudi            52365     974   49.9\n",
       "Rentachinthala       49827     988   48.2"
      ]
     },
     "execution_count": 20,
     "metadata": {},
     "output_type": "execute_result"
    }
   ],
   "source": [
    "data.loc[:'Rentachinthala', :'LRate']"
   ]
  },
  {
   "cell_type": "markdown",
   "id": "3a3f7aeb",
   "metadata": {},
   "source": [
    "Find Maximum of Rows and Colums"
   ]
  },
  {
   "cell_type": "code",
   "execution_count": 21,
   "id": "c7cede92",
   "metadata": {},
   "outputs": [
    {
     "name": "stdout",
     "output_type": "stream",
     "text": [
      "Population    122319.0\n",
      "SRatio          1005.0\n",
      "LRate             55.6\n",
      "dtype: float64\n"
     ]
    }
   ],
   "source": [
    "Max_Column = data.max()\n",
    "print(Max_Column)"
   ]
  },
  {
   "cell_type": "code",
   "execution_count": 22,
   "id": "98e81311",
   "metadata": {},
   "outputs": [
    {
     "name": "stdout",
     "output_type": "stream",
     "text": [
      "Gralazala          66070.0\n",
      "Dachepalli         75233.0\n",
      "Piduguralla       122319.0\n",
      "Karempudi          52365.0\n",
      "Rentachinthala     49827.0\n",
      "Durgi              49095.0\n",
      "Macherla          113048.0\n",
      "dtype: float64\n"
     ]
    }
   ],
   "source": [
    "Max_Rows = data.max(axis = 1)\n",
    "print(Max_Rows)"
   ]
  },
  {
   "cell_type": "markdown",
   "id": "c527670f",
   "metadata": {},
   "source": [
    "Maximum of Single column"
   ]
  },
  {
   "cell_type": "code",
   "execution_count": 23,
   "id": "580d3a72",
   "metadata": {},
   "outputs": [
    {
     "name": "stdout",
     "output_type": "stream",
     "text": [
      "55.6\n"
     ]
    }
   ],
   "source": [
    "Max_SColumn = data['LRate'].max()\n",
    "print(Max_SColumn)"
   ]
  },
  {
   "cell_type": "markdown",
   "id": "79fd6579",
   "metadata": {},
   "source": [
    "Multiple Columns"
   ]
  },
  {
   "cell_type": "code",
   "execution_count": 24,
   "id": "2578f3d0",
   "metadata": {},
   "outputs": [
    {
     "name": "stdout",
     "output_type": "stream",
     "text": [
      "Population    122319.0\n",
      "LRate             55.6\n",
      "dtype: float64\n"
     ]
    }
   ],
   "source": [
    "Max_SColumn = data[['Population','LRate']].max()\n",
    "print(Max_SColumn)"
   ]
  },
  {
   "cell_type": "markdown",
   "id": "c43e4626",
   "metadata": {},
   "source": [
    "Get row index label of Maximum value in every column"
   ]
  },
  {
   "cell_type": "code",
   "execution_count": 25,
   "id": "a2196009",
   "metadata": {},
   "outputs": [
    {
     "data": {
      "text/plain": [
       "Population    Piduguralla\n",
       "SRatio          Gralazala\n",
       "LRate            Macherla\n",
       "dtype: object"
      ]
     },
     "execution_count": 25,
     "metadata": {},
     "output_type": "execute_result"
    }
   ],
   "source": [
    "max = data.idxmax()\n",
    "max"
   ]
  },
  {
   "cell_type": "markdown",
   "id": "d389e3f9",
   "metadata": {},
   "source": [
    "Get Row Index label of a particular column"
   ]
  },
  {
   "cell_type": "code",
   "execution_count": 26,
   "id": "0aac6018",
   "metadata": {},
   "outputs": [
    {
     "data": {
      "text/plain": [
       "'Piduguralla'"
      ]
     },
     "execution_count": 26,
     "metadata": {},
     "output_type": "execute_result"
    }
   ],
   "source": [
    "Max_PCol = data['Population'].idxmax()\n",
    "Max_PCol"
   ]
  },
  {
   "cell_type": "code",
   "execution_count": 27,
   "id": "dcf64e6f",
   "metadata": {},
   "outputs": [
    {
     "data": {
      "text/html": [
       "<div>\n",
       "<style scoped>\n",
       "    .dataframe tbody tr th:only-of-type {\n",
       "        vertical-align: middle;\n",
       "    }\n",
       "\n",
       "    .dataframe tbody tr th {\n",
       "        vertical-align: top;\n",
       "    }\n",
       "\n",
       "    .dataframe thead th {\n",
       "        text-align: right;\n",
       "    }\n",
       "</style>\n",
       "<table border=\"1\" class=\"dataframe\">\n",
       "  <thead>\n",
       "    <tr style=\"text-align: right;\">\n",
       "      <th></th>\n",
       "      <th>Population</th>\n",
       "      <th>SRatio</th>\n",
       "      <th>LRate</th>\n",
       "    </tr>\n",
       "  </thead>\n",
       "  <tbody>\n",
       "    <tr>\n",
       "      <th>Dachepalli</th>\n",
       "      <td>75233</td>\n",
       "      <td>1000</td>\n",
       "      <td>51.9</td>\n",
       "    </tr>\n",
       "    <tr>\n",
       "      <th>Piduguralla</th>\n",
       "      <td>122319</td>\n",
       "      <td>994</td>\n",
       "      <td>55.4</td>\n",
       "    </tr>\n",
       "  </tbody>\n",
       "</table>\n",
       "</div>"
      ],
      "text/plain": [
       "             Population  SRatio  LRate\n",
       "Dachepalli        75233    1000   51.9\n",
       "Piduguralla      122319     994   55.4"
      ]
     },
     "execution_count": 27,
     "metadata": {},
     "output_type": "execute_result"
    }
   ],
   "source": [
    "data[1:3]"
   ]
  },
  {
   "cell_type": "code",
   "execution_count": 28,
   "id": "09f2e5d8",
   "metadata": {},
   "outputs": [
    {
     "data": {
      "text/html": [
       "<div>\n",
       "<style scoped>\n",
       "    .dataframe tbody tr th:only-of-type {\n",
       "        vertical-align: middle;\n",
       "    }\n",
       "\n",
       "    .dataframe tbody tr th {\n",
       "        vertical-align: top;\n",
       "    }\n",
       "\n",
       "    .dataframe thead th {\n",
       "        text-align: right;\n",
       "    }\n",
       "</style>\n",
       "<table border=\"1\" class=\"dataframe\">\n",
       "  <thead>\n",
       "    <tr style=\"text-align: right;\">\n",
       "      <th></th>\n",
       "      <th>Population</th>\n",
       "      <th>SRatio</th>\n",
       "      <th>LRate</th>\n",
       "    </tr>\n",
       "  </thead>\n",
       "  <tbody>\n",
       "    <tr>\n",
       "      <th>Gralazala</th>\n",
       "      <td>66070</td>\n",
       "      <td>1005</td>\n",
       "      <td>50.3</td>\n",
       "    </tr>\n",
       "    <tr>\n",
       "      <th>Dachepalli</th>\n",
       "      <td>75233</td>\n",
       "      <td>1000</td>\n",
       "      <td>51.9</td>\n",
       "    </tr>\n",
       "    <tr>\n",
       "      <th>Piduguralla</th>\n",
       "      <td>122319</td>\n",
       "      <td>994</td>\n",
       "      <td>55.4</td>\n",
       "    </tr>\n",
       "    <tr>\n",
       "      <th>Macherla</th>\n",
       "      <td>113048</td>\n",
       "      <td>978</td>\n",
       "      <td>55.6</td>\n",
       "    </tr>\n",
       "  </tbody>\n",
       "</table>\n",
       "</div>"
      ],
      "text/plain": [
       "             Population  SRatio  LRate\n",
       "Gralazala         66070    1005   50.3\n",
       "Dachepalli        75233    1000   51.9\n",
       "Piduguralla      122319     994   55.4\n",
       "Macherla         113048     978   55.6"
      ]
     },
     "execution_count": 28,
     "metadata": {},
     "output_type": "execute_result"
    }
   ],
   "source": [
    "data[data.LRate > 50]"
   ]
  },
  {
   "cell_type": "code",
   "execution_count": null,
   "id": "aa35a0c0",
   "metadata": {},
   "outputs": [],
   "source": []
  }
 ],
 "metadata": {
  "kernelspec": {
   "display_name": "Python 3 (ipykernel)",
   "language": "python",
   "name": "python3"
  },
  "language_info": {
   "codemirror_mode": {
    "name": "ipython",
    "version": 3
   },
   "file_extension": ".py",
   "mimetype": "text/x-python",
   "name": "python",
   "nbconvert_exporter": "python",
   "pygments_lexer": "ipython3",
   "version": "3.9.7"
  }
 },
 "nbformat": 4,
 "nbformat_minor": 5
}
