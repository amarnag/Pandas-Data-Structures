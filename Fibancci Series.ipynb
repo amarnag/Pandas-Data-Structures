{
 "cells": [
  {
   "cell_type": "markdown",
   "id": "c7c1cc67",
   "metadata": {},
   "source": [
    "### Fibancci series "
   ]
  },
  {
   "cell_type": "code",
   "execution_count": 28,
   "id": "2c64d506",
   "metadata": {},
   "outputs": [],
   "source": [
    "def fibonacci(n):\n",
    "    a = 0\n",
    "    b = 1\n",
    "    if n < 0:\n",
    "        print('Enter a positive number')\n",
    "    elif n == 0:\n",
    "        return 0\n",
    "    elif n == 1:\n",
    "        return b\n",
    "    else:\n",
    "        for i in range(1,n):\n",
    "            c = a + b\n",
    "            a = b\n",
    "            b = c\n",
    "        return b\n",
    "        \n",
    "            "
   ]
  },
  {
   "cell_type": "code",
   "execution_count": 30,
   "id": "e8795bb8",
   "metadata": {},
   "outputs": [
    {
     "name": "stdout",
     "output_type": "stream",
     "text": [
      "0\n"
     ]
    }
   ],
   "source": [
    "print(fibonacci(0))"
   ]
  },
  {
   "cell_type": "code",
   "execution_count": 18,
   "id": "7098bbbe",
   "metadata": {},
   "outputs": [
    {
     "name": "stdout",
     "output_type": "stream",
     "text": [
      "34\n"
     ]
    }
   ],
   "source": [
    "print(fibonacci(9))"
   ]
  },
  {
   "cell_type": "code",
   "execution_count": 22,
   "id": "566984c8",
   "metadata": {},
   "outputs": [
    {
     "name": "stdout",
     "output_type": "stream",
     "text": [
      "how many numbers are required to print by user:9\n",
      "The Fabancci series upto n_tems:\n",
      "1\n",
      "1\n",
      "2\n",
      "3\n",
      "5\n",
      "8\n",
      "13\n",
      "21\n",
      "34\n"
     ]
    }
   ],
   "source": [
    "n_terms = int(input(\"how many numbers are required to print by user:\"))\n",
    "a = 0\n",
    "b = 1\n",
    "count = 0\n",
    "if n_terms <=0:\n",
    "    print('Enter a valid number')\n",
    "elif n_terms ==1:\n",
    "    print('The fibanacci series upto N_terms:',n_terms)\n",
    "    print(b)\n",
    "else:\n",
    "    print('The Fabancci series upto n_tems:')\n",
    "    while count<n_terms:\n",
    "        print(b)\n",
    "        c = a+b\n",
    "        a = b\n",
    "        b = c\n",
    "        count +=1\n",
    "        "
   ]
  },
  {
   "cell_type": "code",
   "execution_count": 27,
   "id": "bc51802d",
   "metadata": {},
   "outputs": [
    {
     "name": "stdout",
     "output_type": "stream",
     "text": [
      "enter lower limit:3\n",
      "enter upper limit:9\n",
      "3 is a prime number\n",
      "4 is not a prime number\n",
      "5 is a prime number\n",
      "6 is not a prime number\n",
      "7 is a prime number\n",
      "8 is not a prime number\n"
     ]
    }
   ],
   "source": [
    "lower = int(input('enter lower limit:'))\n",
    "upper = int(input('enter upper limit:'))\n",
    "for num in range(lower, upper):\n",
    "    if num >1:\n",
    "        for i in range (2, int(num/2)+1):\n",
    "            if num%i ==0:\n",
    "                print(num, 'is not a prime number')\n",
    "                break\n",
    "        else:\n",
    "            print(num, 'is a prime number')\n"
   ]
  },
  {
   "cell_type": "code",
   "execution_count": 11,
   "id": "75428216",
   "metadata": {},
   "outputs": [
    {
     "name": "stdout",
     "output_type": "stream",
     "text": [
      "2 is prime number\n",
      "3 is prime number\n",
      "4 is not a prime number\n",
      "5 is prime number\n",
      "6 is not a prime number\n",
      "7 is prime number\n",
      "8 is not a prime number\n",
      "9 is not a prime number\n"
     ]
    }
   ],
   "source": [
    "for num in range(2, 10):\n",
    "    for i in range (2, int(num/2)+1):\n",
    "        if num%i == 0:\n",
    "            print(num, \"is not a prime number\")\n",
    "            break\n",
    "    else:\n",
    "        print(num, \"is prime number\")"
   ]
  },
  {
   "cell_type": "code",
   "execution_count": null,
   "id": "9cd7e9a9",
   "metadata": {},
   "outputs": [],
   "source": []
  }
 ],
 "metadata": {
  "kernelspec": {
   "display_name": "Python 3 (ipykernel)",
   "language": "python",
   "name": "python3"
  },
  "language_info": {
   "codemirror_mode": {
    "name": "ipython",
    "version": 3
   },
   "file_extension": ".py",
   "mimetype": "text/x-python",
   "name": "python",
   "nbconvert_exporter": "python",
   "pygments_lexer": "ipython3",
   "version": "3.9.7"
  }
 },
 "nbformat": 4,
 "nbformat_minor": 5
}
