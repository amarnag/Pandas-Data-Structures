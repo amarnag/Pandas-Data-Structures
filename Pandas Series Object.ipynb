{
 "cells": [
  {
   "cell_type": "markdown",
   "id": "6d3eadbd",
   "metadata": {},
   "source": [
    "## Pandas Data Structures\n",
    "\n",
    "Series, DataFrame and Index"
   ]
  },
  {
   "cell_type": "markdown",
   "id": "49fe3dbf",
   "metadata": {},
   "source": [
    "### The Pandas `Series` Object"
   ]
  },
  {
   "cell_type": "markdown",
   "id": "10fffc13",
   "metadata": {},
   "source": [
    "This file can also be found <a href=\"https://github.com/amarnag/Pandas-Objects\" target=\"_blank\">here</a>."
   ]
  },
  {
   "cell_type": "code",
   "execution_count": 1,
   "id": "8478c8be",
   "metadata": {},
   "outputs": [
    {
     "data": {
      "text/plain": [
       "'1.3.4'"
      ]
     },
     "execution_count": 1,
     "metadata": {},
     "output_type": "execute_result"
    }
   ],
   "source": [
    "import pandas as pd\n",
    "pd.__version__"
   ]
  },
  {
   "cell_type": "code",
   "execution_count": 2,
   "id": "c9a542ee",
   "metadata": {},
   "outputs": [
    {
     "data": {
      "text/plain": [
       "'1.20.3'"
      ]
     },
     "execution_count": 2,
     "metadata": {},
     "output_type": "execute_result"
    }
   ],
   "source": [
    "import numpy as np\n",
    "np.__version__"
   ]
  },
  {
   "cell_type": "markdown",
   "id": "19eca5ed",
   "metadata": {},
   "source": [
    "A Pandas `Series` is a one-dimensional array of indexed data. It can be created from a list or array as follows:"
   ]
  },
  {
   "cell_type": "code",
   "execution_count": 3,
   "id": "9c91ef2f",
   "metadata": {},
   "outputs": [
    {
     "data": {
      "text/plain": [
       "0    0.5\n",
       "1    1.5\n",
       "2    2.5\n",
       "3    3.5\n",
       "4    5.0\n",
       "dtype: float64"
      ]
     },
     "execution_count": 3,
     "metadata": {},
     "output_type": "execute_result"
    }
   ],
   "source": [
    "data = pd.Series([0.5, 1.5, 2.5, 3.5,5])\n",
    "data"
   ]
  },
  {
   "cell_type": "markdown",
   "id": "c189d38d",
   "metadata": {},
   "source": [
    "As we see in the output, the `Series` wraps both a sequence of `values` and a sequence of `indices`, which we can access with the values and index attributes. The values are simply a familiar NumPy array:"
   ]
  },
  {
   "cell_type": "code",
   "execution_count": 4,
   "id": "2117a029",
   "metadata": {},
   "outputs": [
    {
     "data": {
      "text/plain": [
       "array([0.5, 1.5, 2.5, 3.5, 5. ])"
      ]
     },
     "execution_count": 4,
     "metadata": {},
     "output_type": "execute_result"
    }
   ],
   "source": [
    "data.values"
   ]
  },
  {
   "cell_type": "markdown",
   "id": "d66088cb",
   "metadata": {},
   "source": [
    "The index is an array-like object of type pd.Index, which we'll discuss in more detail momentarily."
   ]
  },
  {
   "cell_type": "code",
   "execution_count": 5,
   "id": "6f7a5c51",
   "metadata": {},
   "outputs": [
    {
     "data": {
      "text/plain": [
       "RangeIndex(start=0, stop=5, step=1)"
      ]
     },
     "execution_count": 5,
     "metadata": {},
     "output_type": "execute_result"
    }
   ],
   "source": [
    "data.index"
   ]
  },
  {
   "cell_type": "markdown",
   "id": "37d9380d",
   "metadata": {},
   "source": [
    "Like with a NumPy array, data can be accessed by the associated index via the familiar Python square-bracket notation:"
   ]
  },
  {
   "cell_type": "code",
   "execution_count": 6,
   "id": "d8817ca8",
   "metadata": {},
   "outputs": [
    {
     "data": {
      "text/plain": [
       "3.5"
      ]
     },
     "execution_count": 6,
     "metadata": {},
     "output_type": "execute_result"
    }
   ],
   "source": [
    "data[3]"
   ]
  },
  {
   "cell_type": "code",
   "execution_count": 7,
   "id": "b9ae3a65",
   "metadata": {},
   "outputs": [
    {
     "data": {
      "text/plain": [
       "2    2.5\n",
       "3    3.5\n",
       "4    5.0\n",
       "dtype: float64"
      ]
     },
     "execution_count": 7,
     "metadata": {},
     "output_type": "execute_result"
    }
   ],
   "source": [
    "data[2:5]"
   ]
  },
  {
   "cell_type": "markdown",
   "id": "967a33ca",
   "metadata": {},
   "source": [
    "The Pandas `Series` has an explicitly defined index associated with the values. Whereas Numpy Array has an implicitly defined integer index used to access the values."
   ]
  },
  {
   "cell_type": "code",
   "execution_count": 8,
   "id": "97dead28",
   "metadata": {},
   "outputs": [
    {
     "data": {
      "text/plain": [
       "a    1\n",
       "b    2\n",
       "c    3\n",
       "d    4\n",
       "e    5\n",
       "dtype: int64"
      ]
     },
     "execution_count": 8,
     "metadata": {},
     "output_type": "execute_result"
    }
   ],
   "source": [
    "data = pd.Series([1,2,3,4,5], index=['a','b','c','d','e'])\n",
    "data"
   ]
  },
  {
   "cell_type": "markdown",
   "id": "6e05f0c8",
   "metadata": {},
   "source": [
    "And the item access works as expected:"
   ]
  },
  {
   "cell_type": "code",
   "execution_count": 9,
   "id": "128545ae",
   "metadata": {},
   "outputs": [
    {
     "data": {
      "text/plain": [
       "4"
      ]
     },
     "execution_count": 9,
     "metadata": {},
     "output_type": "execute_result"
    }
   ],
   "source": [
    "data['d']"
   ]
  },
  {
   "cell_type": "markdown",
   "id": "6dfd00b1",
   "metadata": {},
   "source": [
    "We can even use non-contiguous or non-sequential indices:"
   ]
  },
  {
   "cell_type": "code",
   "execution_count": 10,
   "id": "b92c4930",
   "metadata": {},
   "outputs": [
    {
     "data": {
      "text/plain": [
       "1    4\n",
       "2    6\n",
       "3    8\n",
       "4    2\n",
       "dtype: int64"
      ]
     },
     "execution_count": 10,
     "metadata": {},
     "output_type": "execute_result"
    }
   ],
   "source": [
    "data = pd.Series([4,6,8,2], index = [1,2,3,4])\n",
    "data"
   ]
  },
  {
   "cell_type": "markdown",
   "id": "aa2e87e1",
   "metadata": {},
   "source": [
    "## Series as a specialized dictionary"
   ]
  },
  {
   "cell_type": "code",
   "execution_count": 11,
   "id": "2f8866f4",
   "metadata": {},
   "outputs": [
    {
     "data": {
      "text/plain": [
       "Gurazala         522415\n",
       "Rentachintala    522421\n",
       "Kerampudi        522615\n",
       "Macherla         522426\n",
       "Dachepalli       522414\n",
       "Piduguralla      522413\n",
       "dtype: int64"
      ]
     },
     "execution_count": 11,
     "metadata": {},
     "output_type": "execute_result"
    }
   ],
   "source": [
    "dict = {'Gurazala': 522415,\n",
    "       'Rentachintala': 522421,\n",
    "       'Kerampudi': 522615,\n",
    "       'Macherla': 522426,\n",
    "       'Dachepalli': 522414,\n",
    "       'Piduguralla': 522413}\n",
    "zipcode = pd.Series(dict)\n",
    "zipcode"
   ]
  },
  {
   "cell_type": "code",
   "execution_count": 12,
   "id": "d4899fe3",
   "metadata": {},
   "outputs": [
    {
     "data": {
      "text/plain": [
       "522415"
      ]
     },
     "execution_count": 12,
     "metadata": {},
     "output_type": "execute_result"
    }
   ],
   "source": [
    "zipcode['Gurazala']"
   ]
  },
  {
   "cell_type": "code",
   "execution_count": 13,
   "id": "e6fb077c",
   "metadata": {},
   "outputs": [
    {
     "data": {
      "text/plain": [
       "Kerampudi      522615\n",
       "Macherla       522426\n",
       "Dachepalli     522414\n",
       "Piduguralla    522413\n",
       "dtype: int64"
      ]
     },
     "execution_count": 13,
     "metadata": {},
     "output_type": "execute_result"
    }
   ],
   "source": [
    "zipcode['Kerampudi':'Piduguralla']"
   ]
  },
  {
   "cell_type": "markdown",
   "id": "459bcfcb",
   "metadata": {},
   "source": [
    "### Series Objects"
   ]
  },
  {
   "cell_type": "markdown",
   "id": "307dcaa8",
   "metadata": {},
   "source": [
    "`data` can be a list or NumPy array, in which case index defaults to an integer sequence:"
   ]
  },
  {
   "cell_type": "code",
   "execution_count": 14,
   "id": "8741b47a",
   "metadata": {},
   "outputs": [
    {
     "data": {
      "text/plain": [
       "0    2\n",
       "1    4\n",
       "2    6\n",
       "3    8\n",
       "dtype: int64"
      ]
     },
     "execution_count": 14,
     "metadata": {},
     "output_type": "execute_result"
    }
   ],
   "source": [
    "data = pd.Series([2,4,6,8])\n",
    "data"
   ]
  },
  {
   "cell_type": "markdown",
   "id": "6a1c0d6b",
   "metadata": {},
   "source": [
    "`data` can be a scalar, which is repeated to fill the specified index:"
   ]
  },
  {
   "cell_type": "code",
   "execution_count": 15,
   "id": "89f927ff",
   "metadata": {},
   "outputs": [
    {
     "data": {
      "text/plain": [
       "100    8\n",
       "400    8\n",
       "600    8\n",
       "dtype: int64"
      ]
     },
     "execution_count": 15,
     "metadata": {},
     "output_type": "execute_result"
    }
   ],
   "source": [
    "data = pd.Series(8, index = [100, 400, 600])\n",
    "data"
   ]
  },
  {
   "cell_type": "markdown",
   "id": "0f6bfb67",
   "metadata": {},
   "source": [
    "`data` can be a dictionary, in which index defaults to the sorted dictionary keys:"
   ]
  },
  {
   "cell_type": "code",
   "execution_count": 16,
   "id": "b3a8f4b5",
   "metadata": {},
   "outputs": [
    {
     "data": {
      "text/plain": [
       "1    a\n",
       "2    b\n",
       "3    c\n",
       "4    d\n",
       "dtype: object"
      ]
     },
     "execution_count": 16,
     "metadata": {},
     "output_type": "execute_result"
    }
   ],
   "source": [
    "data = pd.Series({1:'a',2:'b',3:'c',4:'d'})\n",
    "data"
   ]
  },
  {
   "cell_type": "markdown",
   "id": "8af50e0b",
   "metadata": {},
   "source": [
    "### Data selection in Series"
   ]
  },
  {
   "cell_type": "code",
   "execution_count": 17,
   "id": "1d2161cc",
   "metadata": {},
   "outputs": [
    {
     "data": {
      "text/plain": [
       "Indoor            1\n",
       "Surat             2\n",
       "Vijayawada        3\n",
       "Nvai Mumbai       4\n",
       "Pune              5\n",
       "Raipur            6\n",
       "Bhopal            7\n",
       "Vadodara          8\n",
       "Vishakapatnam     9\n",
       "Ahmedhabad       10\n",
       "dtype: int64"
      ]
     },
     "execution_count": 17,
     "metadata": {},
     "output_type": "execute_result"
    }
   ],
   "source": [
    "Swachh_City ={'Indoor': 1,\n",
    "                 'Surat': 2,\n",
    "                 'Vijayawada': 3,\n",
    "                 'Nvai Mumbai': 4,\n",
    "                  'Pune': 5,\n",
    "                  'Raipur': 6,\n",
    "                  'Bhopal': 7,\n",
    "                  'Vadodara': 8,\n",
    "                  'Vishakapatnam': 9,\n",
    "                  'Ahmedhabad': 10}\n",
    "data = pd.Series(Swachh_City)\n",
    "data"
   ]
  },
  {
   "cell_type": "code",
   "execution_count": 18,
   "id": "ddb506bf",
   "metadata": {},
   "outputs": [
    {
     "data": {
      "text/plain": [
       "10"
      ]
     },
     "execution_count": 18,
     "metadata": {},
     "output_type": "execute_result"
    }
   ],
   "source": [
    "data['Ahmedhabad']"
   ]
  },
  {
   "cell_type": "code",
   "execution_count": 19,
   "id": "3ec3a680",
   "metadata": {},
   "outputs": [
    {
     "data": {
      "text/plain": [
       "Nvai Mumbai    4\n",
       "Pune           5\n",
       "Raipur         6\n",
       "Bhopal         7\n",
       "dtype: int64"
      ]
     },
     "execution_count": 19,
     "metadata": {},
     "output_type": "execute_result"
    }
   ],
   "source": [
    "# Slicing by implicit integer index\n",
    "data[3:7]"
   ]
  },
  {
   "cell_type": "code",
   "execution_count": 20,
   "id": "06d1348c",
   "metadata": {},
   "outputs": [
    {
     "data": {
      "text/plain": [
       "Vijayawada        3\n",
       "Nvai Mumbai       4\n",
       "Pune              5\n",
       "Raipur            6\n",
       "Bhopal            7\n",
       "Vadodara          8\n",
       "Vishakapatnam     9\n",
       "Ahmedhabad       10\n",
       "dtype: int64"
      ]
     },
     "execution_count": 20,
     "metadata": {},
     "output_type": "execute_result"
    }
   ],
   "source": [
    "# Slicing by explicit index\n",
    "data['Vijayawada':'Ahmedhabad']"
   ]
  },
  {
   "cell_type": "code",
   "execution_count": 21,
   "id": "7e0482f2",
   "metadata": {},
   "outputs": [
    {
     "data": {
      "text/plain": [
       "False"
      ]
     },
     "execution_count": 21,
     "metadata": {},
     "output_type": "execute_result"
    }
   ],
   "source": [
    "'Guntur' in data"
   ]
  },
  {
   "cell_type": "code",
   "execution_count": 22,
   "id": "bc28cebc",
   "metadata": {},
   "outputs": [
    {
     "data": {
      "text/plain": [
       "Index(['Indoor', 'Surat', 'Vijayawada', 'Nvai Mumbai', 'Pune', 'Raipur',\n",
       "       'Bhopal', 'Vadodara', 'Vishakapatnam', 'Ahmedhabad'],\n",
       "      dtype='object')"
      ]
     },
     "execution_count": 22,
     "metadata": {},
     "output_type": "execute_result"
    }
   ],
   "source": [
    "data.keys()"
   ]
  },
  {
   "cell_type": "code",
   "execution_count": 23,
   "id": "b14477ca",
   "metadata": {},
   "outputs": [
    {
     "data": {
      "text/plain": [
       "array([ 1,  2,  3,  4,  5,  6,  7,  8,  9, 10], dtype=int64)"
      ]
     },
     "execution_count": 23,
     "metadata": {},
     "output_type": "execute_result"
    }
   ],
   "source": [
    "data.values"
   ]
  },
  {
   "cell_type": "code",
   "execution_count": 24,
   "id": "78f888a4",
   "metadata": {},
   "outputs": [
    {
     "data": {
      "text/plain": [
       "<zip at 0x1e2a711c080>"
      ]
     },
     "execution_count": 24,
     "metadata": {},
     "output_type": "execute_result"
    }
   ],
   "source": [
    "data.items()"
   ]
  },
  {
   "cell_type": "code",
   "execution_count": 25,
   "id": "b3e731a0",
   "metadata": {},
   "outputs": [
    {
     "data": {
      "text/plain": [
       "[('Indoor', 1),\n",
       " ('Surat', 2),\n",
       " ('Vijayawada', 3),\n",
       " ('Nvai Mumbai', 4),\n",
       " ('Pune', 5),\n",
       " ('Raipur', 6),\n",
       " ('Bhopal', 7),\n",
       " ('Vadodara', 8),\n",
       " ('Vishakapatnam', 9),\n",
       " ('Ahmedhabad', 10)]"
      ]
     },
     "execution_count": 25,
     "metadata": {},
     "output_type": "execute_result"
    }
   ],
   "source": [
    "list(data.items())"
   ]
  },
  {
   "cell_type": "code",
   "execution_count": 26,
   "id": "502d579b",
   "metadata": {},
   "outputs": [
    {
     "data": {
      "text/plain": [
       "Nvai Mumbai    4\n",
       "Pune           5\n",
       "Raipur         6\n",
       "Bhopal         7\n",
       "Vadodara       8\n",
       "dtype: int64"
      ]
     },
     "execution_count": 26,
     "metadata": {},
     "output_type": "execute_result"
    }
   ],
   "source": [
    "# Masking \n",
    "data[(data>3) & (data<9)]"
   ]
  },
  {
   "cell_type": "code",
   "execution_count": 27,
   "id": "4f6929b3",
   "metadata": {},
   "outputs": [
    {
     "data": {
      "text/plain": [
       "Vijayawada       3\n",
       "Vishakapatnam    9\n",
       "dtype: int64"
      ]
     },
     "execution_count": 27,
     "metadata": {},
     "output_type": "execute_result"
    }
   ],
   "source": [
    "# fancy indexing\n",
    "data[['Vijayawada', 'Vishakapatnam']]"
   ]
  },
  {
   "cell_type": "markdown",
   "id": "0b1376f2",
   "metadata": {},
   "source": [
    "## Indexers: loc, iloc, and ix"
   ]
  },
  {
   "cell_type": "markdown",
   "id": "0a6ebe24",
   "metadata": {},
   "source": [
    "First, the `loc` attribute allows indexing and slicing that always references the explicit index:"
   ]
  },
  {
   "cell_type": "code",
   "execution_count": 28,
   "id": "945f0c0c",
   "metadata": {},
   "outputs": [
    {
     "data": {
      "text/plain": [
       "3"
      ]
     },
     "execution_count": 28,
     "metadata": {},
     "output_type": "execute_result"
    }
   ],
   "source": [
    "data.loc['Vijayawada']"
   ]
  },
  {
   "cell_type": "code",
   "execution_count": 29,
   "id": "4d682afe",
   "metadata": {},
   "outputs": [
    {
     "data": {
      "text/plain": [
       "Bhopal           7\n",
       "Vadodara         8\n",
       "Vishakapatnam    9\n",
       "dtype: int64"
      ]
     },
     "execution_count": 29,
     "metadata": {},
     "output_type": "execute_result"
    }
   ],
   "source": [
    "data.loc['Bhopal':'Vishakapatnam']"
   ]
  },
  {
   "cell_type": "markdown",
   "id": "6a7ef4e3",
   "metadata": {},
   "source": [
    "The `iloc` attribute allows indexing and slicing that always references the implicit Python-style index:"
   ]
  },
  {
   "cell_type": "code",
   "execution_count": 30,
   "id": "20ffe5f3",
   "metadata": {},
   "outputs": [
    {
     "data": {
      "text/plain": [
       "Surat          2\n",
       "Vijayawada     3\n",
       "Nvai Mumbai    4\n",
       "Pune           5\n",
       "Raipur         6\n",
       "Bhopal         7\n",
       "Vadodara       8\n",
       "dtype: int64"
      ]
     },
     "execution_count": 30,
     "metadata": {},
     "output_type": "execute_result"
    }
   ],
   "source": [
    "data.iloc[1:8]"
   ]
  }
 ],
 "metadata": {
  "kernelspec": {
   "display_name": "Python 3 (ipykernel)",
   "language": "python",
   "name": "python3"
  },
  "language_info": {
   "codemirror_mode": {
    "name": "ipython",
    "version": 3
   },
   "file_extension": ".py",
   "mimetype": "text/x-python",
   "name": "python",
   "nbconvert_exporter": "python",
   "pygments_lexer": "ipython3",
   "version": "3.9.7"
  }
 },
 "nbformat": 4,
 "nbformat_minor": 5
}
