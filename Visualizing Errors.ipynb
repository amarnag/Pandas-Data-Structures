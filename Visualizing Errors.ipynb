{
 "cells": [
  {
   "cell_type": "markdown",
   "id": "d3472444",
   "metadata": {},
   "source": [
    "### Visualizing Errors"
   ]
  },
  {
   "cell_type": "markdown",
   "id": "253af109",
   "metadata": {},
   "source": [
    "For any scientific measurement, accurate accounting for errors is nearly as important, if not more important, than accurate reporting of the number itself. For example, imagine that I am using some astrophysical observations to estimate the Hubble Constant, the local measurement of the expansion rate of the Universe. I know that the current literature suggests a value of around 71 (km/s)/Mpc, and I measure a value of 74 (km/s)/Mpc with my method. Are the values consistent? The only correct answer, given this information, is this: there is no way to know."
   ]
  },
  {
   "cell_type": "markdown",
   "id": "a7dd30ca",
   "metadata": {},
   "source": [
    "Suppose I augment this information with reported uncertainties: the current literature suggests a value of around 71 ± 2.5 (km/s)/Mpc, and my method has measured a value of 74 ± 5 (km/s)/Mpc. Now are the values consistent? That is a question that can be quantitatively answered."
   ]
  },
  {
   "cell_type": "markdown",
   "id": "f56c6eac",
   "metadata": {},
   "source": [
    "In visualization of data and results, showing these errors effectively can make a plot convey much more complete information."
   ]
  },
  {
   "cell_type": "markdown",
   "id": "c1aa0c21",
   "metadata": {},
   "source": [
    "### Basic Errorbars"
   ]
  },
  {
   "cell_type": "code",
   "execution_count": 1,
   "id": "5c16e948",
   "metadata": {},
   "outputs": [],
   "source": [
    "%matplotlib inline\n",
    "import matplotlib.pyplot as plt\n",
    "plt.style.use('seaborn-whitegrid')\n",
    "import numpy as np"
   ]
  },
  {
   "cell_type": "code",
   "execution_count": 2,
   "id": "54add5c0",
   "metadata": {},
   "outputs": [
    {
     "data": {
      "image/png": "[encoded data removed]",
      "text/plain": [
       "<Figure size 432x288 with 1 Axes>"
      ]
     },
     "metadata": {},
     "output_type": "display_data"
    }
   ],
   "source": [
    "rng = np.random.RandomState(0)\n",
    "x = np.linspace(0, 10, 50)\n",
    "dy = 0.8\n",
    "y = np.cos(x) + dy * rng.randn(50)\n",
    "plt.errorbar(x, y, yerr = y, fmt = '.y');"
   ]
  },
  {
   "cell_type": "markdown",
   "id": "588fb904",
   "metadata": {},
   "source": [
    "Here the `fmt` is a format code controlling the appearance of lines and points, and has the same syntax as the shorthand used in `plt.plot`"
   ]
  },
  {
   "cell_type": "markdown",
   "id": "0b5d46ec",
   "metadata": {},
   "source": [
    "In addition to these basic options, the `errorbar` function has many options to fine-tune the outputs. Using these additional options you can easily customize the aesthetics of your `errorbar` plot. I often find it helpful, especially in crowded plots, to make the `errorbars` lighter than the points themselves:"
   ]
  },
  {
   "cell_type": "code",
   "execution_count": 3,
   "id": "18d92111",
   "metadata": {},
   "outputs": [
    {
     "data": {
      "image/png": "[encoded data removed]",
      "text/plain": [
       "<Figure size 432x288 with 1 Axes>"
      ]
     },
     "metadata": {},
     "output_type": "display_data"
    }
   ],
   "source": [
    "plt.errorbar(x, y, yerr = dy, fmt = 'o', color = 'y',\n",
    "            elinewidth = 4, ecolor = 'lightgray',\n",
    "            capsize = 0);"
   ]
  },
  {
   "cell_type": "markdown",
   "id": "6f8aef92",
   "metadata": {},
   "source": [
    "In addition to these options, you can also specify horizontal errorbars (xerr), one-sided errorbars, and many other variants. "
   ]
  },
  {
   "cell_type": "markdown",
   "id": "1f74c408",
   "metadata": {},
   "source": [
    "### Continuous Errors"
   ]
  },
  {
   "cell_type": "markdown",
   "id": "9abc708c",
   "metadata": {},
   "source": [
    "In some situations it is desirable to show errorbars on continuous quantities. Though `Matplotlib` does not have a built-in convenience routine for this type of application, it's relatively easy to combine primitives like `plt.plot` and `plt.fill_between` for a useful result."
   ]
  },
  {
   "cell_type": "markdown",
   "id": "a780efcb",
   "metadata": {},
   "source": [
    "Here we'll perform a simple Gaussian process regression, using the Scikit-Learn API. This is a method of fitting a very flexible non-parametric function to data with a continuous measure of the uncertainty. We won't delve into the details of Gaussian process regression at this point, but will focus instead on how you might visualize such a continuous error measurement:"
   ]
  },
  {
   "cell_type": "code",
   "execution_count": 4,
   "id": "2dc074f2",
   "metadata": {},
   "outputs": [],
   "source": [
    "from sklearn.gaussian_process import GaussianProcessRegressor\n",
    "from sklearn.gaussian_process.kernels import DotProduct, WhiteKernel\n",
    "model = lambda x: x * np.sin(x)\n",
    "xdata = np.array([1, 3, 5, 6, 8])\n",
    "ydata = model(xdata)\n",
    "kernel = DotProduct() + WhiteKernel()\n",
    "gp = GaussianProcessRegressor(kernel=kernel,\n",
    "        random_state=0)\n",
    "gp.fit(xdata[:, np.newaxis], ydata)\n",
    "xfit = np.linspace(0, 10, 100)\n",
    "yfit, MSE = gp.predict(xfit[:, np.newaxis], return_std=True)\n",
    "dyfit = 2 * np.sqrt(MSE)  # 2*sigma ~ 95% confidence region"
   ]
  },
  {
   "cell_type": "markdown",
   "id": "90309cd1",
   "metadata": {},
   "source": [
    "We now have xfit, yfit, and dyfit, which sample the continuous `fit` to our data. We could pass these to the `plt.errorbar` function as above, but we don't really want to plot 1,000 points with 1,000 `errorbars`. Instead, we can use the `plt.fill_between` function with a light color to visualize this continuous error:"
   ]
  },
  {
   "cell_type": "code",
   "execution_count": 5,
   "id": "59f69b63",
   "metadata": {},
   "outputs": [
    {
     "data": {
      "image/png": "[encoded data removed]",
      "text/plain": [
       "<Figure size 432x288 with 1 Axes>"
      ]
     },
     "metadata": {},
     "output_type": "display_data"
    }
   ],
   "source": [
    "# Visualize the result\n",
    "plt.plot(xdata, ydata, 'or')\n",
    "plt.plot(xfit, yfit, '-', color='gray')\n",
    "\n",
    "plt.fill_between(xfit, yfit - dyfit, yfit + dyfit,\n",
    "                 color='gray', alpha=0.8)\n",
    "plt.xlim(0, 10);"
   ]
  },
  {
   "cell_type": "markdown",
   "id": "2b9d39bd",
   "metadata": {},
   "source": [
    "Note what we've done here with the fill_between function: we pass an x value, then the lower y-bound, then the upper y-bound, and the result is that the area between these regions is filled."
   ]
  },
  {
   "cell_type": "markdown",
   "id": "1e0d1002",
   "metadata": {},
   "source": [
    "The resulting figure gives a very intuitive view into what the Gaussian process regression algorithm is doing: in regions near a measured data point, the model is strongly constrained and this is reflected in the small model errors. In regions far from a measured data point, the model is not strongly constrained, and the model errors increase."
   ]
  },
  {
   "cell_type": "code",
   "execution_count": null,
   "id": "597fc309",
   "metadata": {},
   "outputs": [],
   "source": []
  }
 ],
 "metadata": {
  "kernelspec": {
   "display_name": "Python 3 (ipykernel)",
   "language": "python",
   "name": "python3"
  },
  "language_info": {
   "codemirror_mode": {
    "name": "ipython",
    "version": 3
   },
   "file_extension": ".py",
   "mimetype": "text/x-python",
   "name": "python",
   "nbconvert_exporter": "python",
   "pygments_lexer": "ipython3",
   "version": "3.9.7"
  }
 },
 "nbformat": 4,
 "nbformat_minor": 5
}
